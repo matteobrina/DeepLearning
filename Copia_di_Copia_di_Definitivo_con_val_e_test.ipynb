{
  "cells": [
    {
      "cell_type": "markdown",
      "metadata": {
        "id": "view-in-github",
        "colab_type": "text"
      },
      "source": [
        "<a href=\"https://colab.research.google.com/github/matteobrina/DeepLearning/blob/main/Copia_di_Copia_di_Definitivo_con_val_e_test.ipynb\" target=\"_parent\"><img src=\"https://colab.research.google.com/assets/colab-badge.svg\" alt=\"Open In Colab\"/></a>"
      ]
    },
    {
      "cell_type": "markdown",
      "metadata": {
        "id": "bIZJmRfIV64P"
      },
      "source": [
        "Importo le dipendenze"
      ]
    },
    {
      "cell_type": "code",
      "execution_count": null,
      "metadata": {
        "id": "l9ZkfjEpATuu"
      },
      "outputs": [],
      "source": [
        "import numpy as np \n",
        "import pandas as pd \n",
        "import matplotlib.pyplot as plt  \n",
        "\n",
        "from sklearn.model_selection import train_test_split\n",
        "from sklearn.preprocessing import StandardScaler\n",
        "from sklearn.metrics import confusion_matrix, precision_recall_curve, roc_auc_score, roc_curve, accuracy_score, average_precision_score"
      ]
    },
    {
      "cell_type": "code",
      "execution_count": null,
      "metadata": {
        "id": "K7MpBabDAelp"
      },
      "outputs": [],
      "source": [
        "import tensorflow as tf\n",
        "from tensorflow import keras"
      ]
    },
    {
      "cell_type": "markdown",
      "metadata": {
        "id": "E10qrOEKV_6w"
      },
      "source": [
        "Carico il dataset nella variabile \"data\""
      ]
    },
    {
      "cell_type": "code",
      "execution_count": null,
      "metadata": {
        "id": "WYVh1RaUAl8z"
      },
      "outputs": [],
      "source": [
        "data=pd.read_csv(r\"creditcardcsvpresent.csv\")"
      ]
    },
    {
      "cell_type": "markdown",
      "metadata": {
        "id": "EOjxOUlRWEei"
      },
      "source": [
        "Stampo le prime 5 righe del dataset"
      ]
    },
    {
      "cell_type": "code",
      "execution_count": null,
      "metadata": {
        "colab": {
          "base_uri": "https://localhost:8080/",
          "height": 305
        },
        "id": "m5Q6ZjMMAoap",
        "outputId": "5689b6f5-e433-4bf9-e36b-863bb97cfb35"
      },
      "outputs": [
        {
          "output_type": "execute_result",
          "data": {
            "text/plain": [
              "   Merchant_id  Transaction date  Average Amount/transaction/day  \\\n",
              "0   3160040998               NaN                           100.0   \n",
              "1   3160040998               NaN                           100.0   \n",
              "2   3160041896               NaN                           185.5   \n",
              "3   3160141996               NaN                           185.5   \n",
              "4   3160241992               NaN                           500.0   \n",
              "\n",
              "   Transaction_amount Is declined  Total Number of declines/day  \\\n",
              "0              3000.0           N                             5   \n",
              "1              4300.0           N                             5   \n",
              "2              4823.0           Y                             5   \n",
              "3              5008.5           Y                             8   \n",
              "4             26000.0           N                             0   \n",
              "\n",
              "  isForeignTransaction isHighRiskCountry  Daily_chargeback_avg_amt  \\\n",
              "0                    Y                 Y                         0   \n",
              "1                    Y                 Y                         0   \n",
              "2                    N                 N                         0   \n",
              "3                    N                 N                         0   \n",
              "4                    Y                 Y                       800   \n",
              "\n",
              "   6_month_avg_chbk_amt  6-month_chbk_freq isFradulent  \n",
              "0                   0.0                  0           Y  \n",
              "1                   0.0                  0           Y  \n",
              "2                   0.0                  0           Y  \n",
              "3                   0.0                  0           Y  \n",
              "4                 677.2                  6           Y  "
            ],
            "text/html": [
              "\n",
              "  <div id=\"df-0c90b635-9bca-4a0c-8d22-67e7a4695efb\">\n",
              "    <div class=\"colab-df-container\">\n",
              "      <div>\n",
              "<style scoped>\n",
              "    .dataframe tbody tr th:only-of-type {\n",
              "        vertical-align: middle;\n",
              "    }\n",
              "\n",
              "    .dataframe tbody tr th {\n",
              "        vertical-align: top;\n",
              "    }\n",
              "\n",
              "    .dataframe thead th {\n",
              "        text-align: right;\n",
              "    }\n",
              "</style>\n",
              "<table border=\"1\" class=\"dataframe\">\n",
              "  <thead>\n",
              "    <tr style=\"text-align: right;\">\n",
              "      <th></th>\n",
              "      <th>Merchant_id</th>\n",
              "      <th>Transaction date</th>\n",
              "      <th>Average Amount/transaction/day</th>\n",
              "      <th>Transaction_amount</th>\n",
              "      <th>Is declined</th>\n",
              "      <th>Total Number of declines/day</th>\n",
              "      <th>isForeignTransaction</th>\n",
              "      <th>isHighRiskCountry</th>\n",
              "      <th>Daily_chargeback_avg_amt</th>\n",
              "      <th>6_month_avg_chbk_amt</th>\n",
              "      <th>6-month_chbk_freq</th>\n",
              "      <th>isFradulent</th>\n",
              "    </tr>\n",
              "  </thead>\n",
              "  <tbody>\n",
              "    <tr>\n",
              "      <th>0</th>\n",
              "      <td>3160040998</td>\n",
              "      <td>NaN</td>\n",
              "      <td>100.0</td>\n",
              "      <td>3000.0</td>\n",
              "      <td>N</td>\n",
              "      <td>5</td>\n",
              "      <td>Y</td>\n",
              "      <td>Y</td>\n",
              "      <td>0</td>\n",
              "      <td>0.0</td>\n",
              "      <td>0</td>\n",
              "      <td>Y</td>\n",
              "    </tr>\n",
              "    <tr>\n",
              "      <th>1</th>\n",
              "      <td>3160040998</td>\n",
              "      <td>NaN</td>\n",
              "      <td>100.0</td>\n",
              "      <td>4300.0</td>\n",
              "      <td>N</td>\n",
              "      <td>5</td>\n",
              "      <td>Y</td>\n",
              "      <td>Y</td>\n",
              "      <td>0</td>\n",
              "      <td>0.0</td>\n",
              "      <td>0</td>\n",
              "      <td>Y</td>\n",
              "    </tr>\n",
              "    <tr>\n",
              "      <th>2</th>\n",
              "      <td>3160041896</td>\n",
              "      <td>NaN</td>\n",
              "      <td>185.5</td>\n",
              "      <td>4823.0</td>\n",
              "      <td>Y</td>\n",
              "      <td>5</td>\n",
              "      <td>N</td>\n",
              "      <td>N</td>\n",
              "      <td>0</td>\n",
              "      <td>0.0</td>\n",
              "      <td>0</td>\n",
              "      <td>Y</td>\n",
              "    </tr>\n",
              "    <tr>\n",
              "      <th>3</th>\n",
              "      <td>3160141996</td>\n",
              "      <td>NaN</td>\n",
              "      <td>185.5</td>\n",
              "      <td>5008.5</td>\n",
              "      <td>Y</td>\n",
              "      <td>8</td>\n",
              "      <td>N</td>\n",
              "      <td>N</td>\n",
              "      <td>0</td>\n",
              "      <td>0.0</td>\n",
              "      <td>0</td>\n",
              "      <td>Y</td>\n",
              "    </tr>\n",
              "    <tr>\n",
              "      <th>4</th>\n",
              "      <td>3160241992</td>\n",
              "      <td>NaN</td>\n",
              "      <td>500.0</td>\n",
              "      <td>26000.0</td>\n",
              "      <td>N</td>\n",
              "      <td>0</td>\n",
              "      <td>Y</td>\n",
              "      <td>Y</td>\n",
              "      <td>800</td>\n",
              "      <td>677.2</td>\n",
              "      <td>6</td>\n",
              "      <td>Y</td>\n",
              "    </tr>\n",
              "  </tbody>\n",
              "</table>\n",
              "</div>\n",
              "      <button class=\"colab-df-convert\" onclick=\"convertToInteractive('df-0c90b635-9bca-4a0c-8d22-67e7a4695efb')\"\n",
              "              title=\"Convert this dataframe to an interactive table.\"\n",
              "              style=\"display:none;\">\n",
              "        \n",
              "  <svg xmlns=\"http://www.w3.org/2000/svg\" height=\"24px\"viewBox=\"0 0 24 24\"\n",
              "       width=\"24px\">\n",
              "    <path d=\"M0 0h24v24H0V0z\" fill=\"none\"/>\n",
              "    <path d=\"M18.56 5.44l.94 2.06.94-2.06 2.06-.94-2.06-.94-.94-2.06-.94 2.06-2.06.94zm-11 1L8.5 8.5l.94-2.06 2.06-.94-2.06-.94L8.5 2.5l-.94 2.06-2.06.94zm10 10l.94 2.06.94-2.06 2.06-.94-2.06-.94-.94-2.06-.94 2.06-2.06.94z\"/><path d=\"M17.41 7.96l-1.37-1.37c-.4-.4-.92-.59-1.43-.59-.52 0-1.04.2-1.43.59L10.3 9.45l-7.72 7.72c-.78.78-.78 2.05 0 2.83L4 21.41c.39.39.9.59 1.41.59.51 0 1.02-.2 1.41-.59l7.78-7.78 2.81-2.81c.8-.78.8-2.07 0-2.86zM5.41 20L4 18.59l7.72-7.72 1.47 1.35L5.41 20z\"/>\n",
              "  </svg>\n",
              "      </button>\n",
              "      \n",
              "  <style>\n",
              "    .colab-df-container {\n",
              "      display:flex;\n",
              "      flex-wrap:wrap;\n",
              "      gap: 12px;\n",
              "    }\n",
              "\n",
              "    .colab-df-convert {\n",
              "      background-color: #E8F0FE;\n",
              "      border: none;\n",
              "      border-radius: 50%;\n",
              "      cursor: pointer;\n",
              "      display: none;\n",
              "      fill: #1967D2;\n",
              "      height: 32px;\n",
              "      padding: 0 0 0 0;\n",
              "      width: 32px;\n",
              "    }\n",
              "\n",
              "    .colab-df-convert:hover {\n",
              "      background-color: #E2EBFA;\n",
              "      box-shadow: 0px 1px 2px rgba(60, 64, 67, 0.3), 0px 1px 3px 1px rgba(60, 64, 67, 0.15);\n",
              "      fill: #174EA6;\n",
              "    }\n",
              "\n",
              "    [theme=dark] .colab-df-convert {\n",
              "      background-color: #3B4455;\n",
              "      fill: #D2E3FC;\n",
              "    }\n",
              "\n",
              "    [theme=dark] .colab-df-convert:hover {\n",
              "      background-color: #434B5C;\n",
              "      box-shadow: 0px 1px 3px 1px rgba(0, 0, 0, 0.15);\n",
              "      filter: drop-shadow(0px 1px 2px rgba(0, 0, 0, 0.3));\n",
              "      fill: #FFFFFF;\n",
              "    }\n",
              "  </style>\n",
              "\n",
              "      <script>\n",
              "        const buttonEl =\n",
              "          document.querySelector('#df-0c90b635-9bca-4a0c-8d22-67e7a4695efb button.colab-df-convert');\n",
              "        buttonEl.style.display =\n",
              "          google.colab.kernel.accessAllowed ? 'block' : 'none';\n",
              "\n",
              "        async function convertToInteractive(key) {\n",
              "          const element = document.querySelector('#df-0c90b635-9bca-4a0c-8d22-67e7a4695efb');\n",
              "          const dataTable =\n",
              "            await google.colab.kernel.invokeFunction('convertToInteractive',\n",
              "                                                     [key], {});\n",
              "          if (!dataTable) return;\n",
              "\n",
              "          const docLinkHtml = 'Like what you see? Visit the ' +\n",
              "            '<a target=\"_blank\" href=https://colab.research.google.com/notebooks/data_table.ipynb>data table notebook</a>'\n",
              "            + ' to learn more about interactive tables.';\n",
              "          element.innerHTML = '';\n",
              "          dataTable['output_type'] = 'display_data';\n",
              "          await google.colab.output.renderOutput(dataTable, element);\n",
              "          const docLink = document.createElement('div');\n",
              "          docLink.innerHTML = docLinkHtml;\n",
              "          element.appendChild(docLink);\n",
              "        }\n",
              "      </script>\n",
              "    </div>\n",
              "  </div>\n",
              "  "
            ]
          },
          "metadata": {},
          "execution_count": 4
        }
      ],
      "source": [
        "data.head()"
      ]
    },
    {
      "cell_type": "markdown",
      "metadata": {
        "id": "rJ0jb5dNW0Wn"
      },
      "source": [
        "Rimuovo la colonna Transaction date in quanto tutti i valori sono NaN e rimuovo la colonna Merchent_id in quanto ritengo siano informazioni irrilevanti"
      ]
    },
    {
      "cell_type": "code",
      "execution_count": null,
      "metadata": {
        "colab": {
          "base_uri": "https://localhost:8080/"
        },
        "id": "YFx7RhLHArI4",
        "outputId": "bee0ce43-2a5d-458e-c40c-ca894814e6e1"
      },
      "outputs": [
        {
          "output_type": "execute_result",
          "data": {
            "text/plain": [
              "0       3160040998\n",
              "1       3160040998\n",
              "2       3160041896\n",
              "3       3160141996\n",
              "4       3160241992\n",
              "           ...    \n",
              "3070    6661273532\n",
              "3071    6661273532\n",
              "3072    6661273533\n",
              "3073    6661273532\n",
              "3074    6661273533\n",
              "Name: Merchant_id, Length: 3075, dtype: int64"
            ]
          },
          "metadata": {},
          "execution_count": 5
        }
      ],
      "source": [
        "data.pop('Transaction date')\n",
        "data.pop('Merchant_id')"
      ]
    },
    {
      "cell_type": "markdown",
      "metadata": {
        "id": "GUMxnSKGWZ-w"
      },
      "source": [
        "Controllo che le colonne siano state rimosse correttamente"
      ]
    },
    {
      "cell_type": "code",
      "execution_count": null,
      "metadata": {
        "colab": {
          "base_uri": "https://localhost:8080/",
          "height": 305
        },
        "id": "KrAq0UOoAt-a",
        "outputId": "ddb1733c-4ff5-40b8-b20f-9835867fc740"
      },
      "outputs": [
        {
          "output_type": "execute_result",
          "data": {
            "text/plain": [
              "   Average Amount/transaction/day  Transaction_amount Is declined  \\\n",
              "0                           100.0              3000.0           N   \n",
              "1                           100.0              4300.0           N   \n",
              "2                           185.5              4823.0           Y   \n",
              "3                           185.5              5008.5           Y   \n",
              "4                           500.0             26000.0           N   \n",
              "\n",
              "   Total Number of declines/day isForeignTransaction isHighRiskCountry  \\\n",
              "0                             5                    Y                 Y   \n",
              "1                             5                    Y                 Y   \n",
              "2                             5                    N                 N   \n",
              "3                             8                    N                 N   \n",
              "4                             0                    Y                 Y   \n",
              "\n",
              "   Daily_chargeback_avg_amt  6_month_avg_chbk_amt  6-month_chbk_freq  \\\n",
              "0                         0                   0.0                  0   \n",
              "1                         0                   0.0                  0   \n",
              "2                         0                   0.0                  0   \n",
              "3                         0                   0.0                  0   \n",
              "4                       800                 677.2                  6   \n",
              "\n",
              "  isFradulent  \n",
              "0           Y  \n",
              "1           Y  \n",
              "2           Y  \n",
              "3           Y  \n",
              "4           Y  "
            ],
            "text/html": [
              "\n",
              "  <div id=\"df-18ca43db-af61-43ed-a46f-66adbffd5262\">\n",
              "    <div class=\"colab-df-container\">\n",
              "      <div>\n",
              "<style scoped>\n",
              "    .dataframe tbody tr th:only-of-type {\n",
              "        vertical-align: middle;\n",
              "    }\n",
              "\n",
              "    .dataframe tbody tr th {\n",
              "        vertical-align: top;\n",
              "    }\n",
              "\n",
              "    .dataframe thead th {\n",
              "        text-align: right;\n",
              "    }\n",
              "</style>\n",
              "<table border=\"1\" class=\"dataframe\">\n",
              "  <thead>\n",
              "    <tr style=\"text-align: right;\">\n",
              "      <th></th>\n",
              "      <th>Average Amount/transaction/day</th>\n",
              "      <th>Transaction_amount</th>\n",
              "      <th>Is declined</th>\n",
              "      <th>Total Number of declines/day</th>\n",
              "      <th>isForeignTransaction</th>\n",
              "      <th>isHighRiskCountry</th>\n",
              "      <th>Daily_chargeback_avg_amt</th>\n",
              "      <th>6_month_avg_chbk_amt</th>\n",
              "      <th>6-month_chbk_freq</th>\n",
              "      <th>isFradulent</th>\n",
              "    </tr>\n",
              "  </thead>\n",
              "  <tbody>\n",
              "    <tr>\n",
              "      <th>0</th>\n",
              "      <td>100.0</td>\n",
              "      <td>3000.0</td>\n",
              "      <td>N</td>\n",
              "      <td>5</td>\n",
              "      <td>Y</td>\n",
              "      <td>Y</td>\n",
              "      <td>0</td>\n",
              "      <td>0.0</td>\n",
              "      <td>0</td>\n",
              "      <td>Y</td>\n",
              "    </tr>\n",
              "    <tr>\n",
              "      <th>1</th>\n",
              "      <td>100.0</td>\n",
              "      <td>4300.0</td>\n",
              "      <td>N</td>\n",
              "      <td>5</td>\n",
              "      <td>Y</td>\n",
              "      <td>Y</td>\n",
              "      <td>0</td>\n",
              "      <td>0.0</td>\n",
              "      <td>0</td>\n",
              "      <td>Y</td>\n",
              "    </tr>\n",
              "    <tr>\n",
              "      <th>2</th>\n",
              "      <td>185.5</td>\n",
              "      <td>4823.0</td>\n",
              "      <td>Y</td>\n",
              "      <td>5</td>\n",
              "      <td>N</td>\n",
              "      <td>N</td>\n",
              "      <td>0</td>\n",
              "      <td>0.0</td>\n",
              "      <td>0</td>\n",
              "      <td>Y</td>\n",
              "    </tr>\n",
              "    <tr>\n",
              "      <th>3</th>\n",
              "      <td>185.5</td>\n",
              "      <td>5008.5</td>\n",
              "      <td>Y</td>\n",
              "      <td>8</td>\n",
              "      <td>N</td>\n",
              "      <td>N</td>\n",
              "      <td>0</td>\n",
              "      <td>0.0</td>\n",
              "      <td>0</td>\n",
              "      <td>Y</td>\n",
              "    </tr>\n",
              "    <tr>\n",
              "      <th>4</th>\n",
              "      <td>500.0</td>\n",
              "      <td>26000.0</td>\n",
              "      <td>N</td>\n",
              "      <td>0</td>\n",
              "      <td>Y</td>\n",
              "      <td>Y</td>\n",
              "      <td>800</td>\n",
              "      <td>677.2</td>\n",
              "      <td>6</td>\n",
              "      <td>Y</td>\n",
              "    </tr>\n",
              "  </tbody>\n",
              "</table>\n",
              "</div>\n",
              "      <button class=\"colab-df-convert\" onclick=\"convertToInteractive('df-18ca43db-af61-43ed-a46f-66adbffd5262')\"\n",
              "              title=\"Convert this dataframe to an interactive table.\"\n",
              "              style=\"display:none;\">\n",
              "        \n",
              "  <svg xmlns=\"http://www.w3.org/2000/svg\" height=\"24px\"viewBox=\"0 0 24 24\"\n",
              "       width=\"24px\">\n",
              "    <path d=\"M0 0h24v24H0V0z\" fill=\"none\"/>\n",
              "    <path d=\"M18.56 5.44l.94 2.06.94-2.06 2.06-.94-2.06-.94-.94-2.06-.94 2.06-2.06.94zm-11 1L8.5 8.5l.94-2.06 2.06-.94-2.06-.94L8.5 2.5l-.94 2.06-2.06.94zm10 10l.94 2.06.94-2.06 2.06-.94-2.06-.94-.94-2.06-.94 2.06-2.06.94z\"/><path d=\"M17.41 7.96l-1.37-1.37c-.4-.4-.92-.59-1.43-.59-.52 0-1.04.2-1.43.59L10.3 9.45l-7.72 7.72c-.78.78-.78 2.05 0 2.83L4 21.41c.39.39.9.59 1.41.59.51 0 1.02-.2 1.41-.59l7.78-7.78 2.81-2.81c.8-.78.8-2.07 0-2.86zM5.41 20L4 18.59l7.72-7.72 1.47 1.35L5.41 20z\"/>\n",
              "  </svg>\n",
              "      </button>\n",
              "      \n",
              "  <style>\n",
              "    .colab-df-container {\n",
              "      display:flex;\n",
              "      flex-wrap:wrap;\n",
              "      gap: 12px;\n",
              "    }\n",
              "\n",
              "    .colab-df-convert {\n",
              "      background-color: #E8F0FE;\n",
              "      border: none;\n",
              "      border-radius: 50%;\n",
              "      cursor: pointer;\n",
              "      display: none;\n",
              "      fill: #1967D2;\n",
              "      height: 32px;\n",
              "      padding: 0 0 0 0;\n",
              "      width: 32px;\n",
              "    }\n",
              "\n",
              "    .colab-df-convert:hover {\n",
              "      background-color: #E2EBFA;\n",
              "      box-shadow: 0px 1px 2px rgba(60, 64, 67, 0.3), 0px 1px 3px 1px rgba(60, 64, 67, 0.15);\n",
              "      fill: #174EA6;\n",
              "    }\n",
              "\n",
              "    [theme=dark] .colab-df-convert {\n",
              "      background-color: #3B4455;\n",
              "      fill: #D2E3FC;\n",
              "    }\n",
              "\n",
              "    [theme=dark] .colab-df-convert:hover {\n",
              "      background-color: #434B5C;\n",
              "      box-shadow: 0px 1px 3px 1px rgba(0, 0, 0, 0.15);\n",
              "      filter: drop-shadow(0px 1px 2px rgba(0, 0, 0, 0.3));\n",
              "      fill: #FFFFFF;\n",
              "    }\n",
              "  </style>\n",
              "\n",
              "      <script>\n",
              "        const buttonEl =\n",
              "          document.querySelector('#df-18ca43db-af61-43ed-a46f-66adbffd5262 button.colab-df-convert');\n",
              "        buttonEl.style.display =\n",
              "          google.colab.kernel.accessAllowed ? 'block' : 'none';\n",
              "\n",
              "        async function convertToInteractive(key) {\n",
              "          const element = document.querySelector('#df-18ca43db-af61-43ed-a46f-66adbffd5262');\n",
              "          const dataTable =\n",
              "            await google.colab.kernel.invokeFunction('convertToInteractive',\n",
              "                                                     [key], {});\n",
              "          if (!dataTable) return;\n",
              "\n",
              "          const docLinkHtml = 'Like what you see? Visit the ' +\n",
              "            '<a target=\"_blank\" href=https://colab.research.google.com/notebooks/data_table.ipynb>data table notebook</a>'\n",
              "            + ' to learn more about interactive tables.';\n",
              "          element.innerHTML = '';\n",
              "          dataTable['output_type'] = 'display_data';\n",
              "          await google.colab.output.renderOutput(dataTable, element);\n",
              "          const docLink = document.createElement('div');\n",
              "          docLink.innerHTML = docLinkHtml;\n",
              "          element.appendChild(docLink);\n",
              "        }\n",
              "      </script>\n",
              "    </div>\n",
              "  </div>\n",
              "  "
            ]
          },
          "metadata": {},
          "execution_count": 6
        }
      ],
      "source": [
        "data.head()"
      ]
    },
    {
      "cell_type": "markdown",
      "metadata": {
        "id": "fvxSEl0YW9CE"
      },
      "source": [
        "Codifico i valori booleani in formato binario"
      ]
    },
    {
      "cell_type": "code",
      "execution_count": null,
      "metadata": {
        "id": "B5fI90-EAwN0"
      },
      "outputs": [],
      "source": [
        "code={\n",
        "    \"N\":0,\n",
        "    \"Y\":1\n",
        "}"
      ]
    },
    {
      "cell_type": "code",
      "execution_count": null,
      "metadata": {
        "id": "e4Tarsw9Ay4a"
      },
      "outputs": [],
      "source": [
        "for obj in data.select_dtypes(\"object\"):\n",
        "    data[obj]=data[obj].map(code)"
      ]
    },
    {
      "cell_type": "markdown",
      "metadata": {
        "id": "IzXarA3vXDjs"
      },
      "source": [
        "Divido il dataest in dati di imput ed etichette"
      ]
    },
    {
      "cell_type": "code",
      "execution_count": null,
      "metadata": {
        "id": "Y2G2cmepA1Bm"
      },
      "outputs": [],
      "source": [
        "X = data.iloc[:, :-1].values"
      ]
    },
    {
      "cell_type": "code",
      "execution_count": null,
      "metadata": {
        "id": "gEtCgeZeA22B"
      },
      "outputs": [],
      "source": [
        "y = data[\"isFradulent\"].values"
      ]
    },
    {
      "cell_type": "markdown",
      "metadata": {
        "id": "ZKKH3y_MnN1d"
      },
      "source": []
    },
    {
      "cell_type": "markdown",
      "metadata": {
        "id": "TGm6ybf3XLz7"
      },
      "source": [
        "Divido casualmente il dataset in dati di train e di test con un 12,5% di dati di test, 12,5% di dati di validation e 75% di train."
      ]
    },
    {
      "cell_type": "code",
      "execution_count": null,
      "metadata": {
        "id": "WaLaSyTCA5gG"
      },
      "outputs": [],
      "source": [
        "X_train, X_rem, y_train, y_rem = train_test_split(X, y, test_size=0.25, random_state=11111)\n",
        "X_val, X_test, y_val, y_test = train_test_split(X_rem, y_rem, test_size=0.5, random_state=11111)"
      ]
    },
    {
      "cell_type": "markdown",
      "source": [
        "Controllo che val e test siano bilanciati"
      ],
      "metadata": {
        "id": "wTrC1hRxSL4P"
      }
    },
    {
      "cell_type": "code",
      "source": [
        "y_val"
      ],
      "metadata": {
        "colab": {
          "base_uri": "https://localhost:8080/"
        },
        "id": "w985eMsXSDjw",
        "outputId": "bd68188b-df6a-42d6-9b9a-9452a098c46f"
      },
      "execution_count": null,
      "outputs": [
        {
          "output_type": "execute_result",
          "data": {
            "text/plain": [
              "array([0, 1, 0, 0, 0, 0, 1, 0, 0, 0, 0, 0, 0, 0, 0, 1, 0, 0, 0, 0, 0, 0,\n",
              "       0, 0, 0, 0, 0, 0, 0, 0, 0, 0, 0, 0, 0, 0, 0, 0, 0, 0, 0, 0, 0, 0,\n",
              "       0, 0, 0, 0, 0, 0, 0, 1, 0, 0, 0, 0, 1, 0, 0, 0, 0, 0, 0, 1, 0, 0,\n",
              "       0, 0, 0, 0, 1, 1, 0, 0, 0, 0, 0, 1, 1, 0, 0, 0, 0, 0, 0, 0, 0, 0,\n",
              "       0, 0, 1, 0, 0, 1, 0, 0, 0, 0, 0, 0, 0, 0, 0, 0, 0, 1, 0, 0, 0, 0,\n",
              "       0, 0, 0, 0, 0, 0, 0, 0, 1, 0, 0, 1, 0, 0, 0, 1, 0, 0, 0, 0, 0, 0,\n",
              "       1, 0, 0, 1, 1, 0, 0, 0, 0, 0, 0, 0, 1, 0, 1, 1, 0, 0, 0, 0, 0, 0,\n",
              "       0, 0, 0, 0, 1, 0, 0, 0, 0, 0, 0, 0, 0, 0, 0, 0, 0, 1, 0, 0, 0, 0,\n",
              "       0, 1, 1, 0, 0, 0, 1, 0, 0, 0, 1, 0, 0, 0, 0, 0, 0, 0, 0, 0, 0, 1,\n",
              "       0, 1, 1, 0, 0, 1, 0, 0, 0, 0, 0, 0, 0, 0, 0, 0, 0, 0, 0, 0, 0, 0,\n",
              "       1, 0, 0, 0, 1, 0, 0, 0, 0, 0, 0, 0, 1, 1, 1, 0, 0, 0, 0, 0, 0, 0,\n",
              "       0, 0, 0, 1, 0, 0, 0, 1, 0, 0, 0, 0, 0, 0, 1, 0, 0, 0, 0, 0, 0, 0,\n",
              "       1, 0, 0, 0, 0, 1, 0, 0, 0, 1, 0, 0, 0, 0, 0, 0, 0, 0, 0, 0, 0, 0,\n",
              "       1, 0, 0, 0, 0, 1, 0, 0, 0, 0, 0, 1, 0, 0, 0, 0, 0, 0, 0, 0, 1, 1,\n",
              "       0, 0, 0, 0, 0, 0, 0, 0, 0, 0, 0, 1, 1, 0, 0, 0, 0, 0, 0, 0, 0, 0,\n",
              "       0, 0, 0, 0, 0, 0, 0, 0, 0, 0, 0, 1, 0, 0, 1, 0, 0, 0, 0, 0, 0, 0,\n",
              "       0, 0, 0, 0, 0, 0, 0, 0, 0, 0, 0, 1, 0, 0, 0, 0, 0, 0, 0, 0, 0, 0,\n",
              "       0, 1, 0, 0, 0, 0, 0, 0, 0, 0])"
            ]
          },
          "metadata": {},
          "execution_count": 12
        }
      ]
    },
    {
      "cell_type": "code",
      "execution_count": null,
      "metadata": {
        "colab": {
          "base_uri": "https://localhost:8080/"
        },
        "id": "t8qVehyjRn3e",
        "outputId": "b1f9038c-b831-4f04-b643-19d5fded2f86"
      },
      "outputs": [
        {
          "output_type": "execute_result",
          "data": {
            "text/plain": [
              "array([0, 0, 0, 0, 0, 0, 0, 0, 0, 0, 0, 1, 0, 1, 0, 1, 0, 0, 0, 0, 1, 0,\n",
              "       0, 0, 0, 0, 0, 1, 0, 0, 0, 0, 0, 0, 0, 1, 0, 0, 0, 1, 1, 0, 0, 0,\n",
              "       0, 0, 0, 0, 0, 0, 0, 0, 0, 0, 0, 0, 0, 0, 0, 0, 0, 0, 0, 0, 1, 0,\n",
              "       1, 0, 0, 0, 0, 0, 0, 0, 0, 0, 0, 0, 0, 0, 0, 0, 0, 0, 0, 0, 0, 0,\n",
              "       0, 0, 0, 0, 0, 0, 0, 1, 0, 1, 0, 0, 0, 0, 0, 0, 0, 0, 0, 0, 0, 0,\n",
              "       0, 0, 1, 0, 0, 0, 0, 1, 1, 0, 0, 0, 0, 0, 0, 0, 0, 0, 0, 0, 0, 1,\n",
              "       0, 1, 0, 0, 0, 0, 0, 0, 0, 0, 1, 0, 0, 0, 0, 0, 0, 0, 0, 0, 0, 0,\n",
              "       0, 0, 0, 0, 0, 0, 0, 0, 0, 0, 0, 0, 0, 0, 0, 0, 0, 0, 0, 0, 0, 1,\n",
              "       0, 0, 0, 0, 0, 0, 0, 0, 0, 0, 0, 1, 0, 0, 0, 0, 0, 0, 0, 0, 0, 0,\n",
              "       0, 0, 1, 0, 0, 0, 0, 0, 1, 0, 0, 0, 1, 0, 1, 0, 0, 0, 0, 0, 0, 0,\n",
              "       0, 0, 1, 0, 0, 1, 1, 0, 1, 0, 1, 0, 1, 0, 0, 0, 0, 0, 0, 0, 0, 0,\n",
              "       0, 0, 0, 0, 1, 0, 0, 1, 0, 0, 0, 0, 0, 0, 0, 0, 1, 0, 1, 0, 0, 0,\n",
              "       0, 0, 0, 0, 0, 0, 0, 1, 0, 0, 1, 0, 0, 0, 0, 0, 0, 0, 0, 0, 0, 0,\n",
              "       0, 0, 0, 1, 1, 0, 0, 0, 0, 0, 1, 1, 0, 0, 0, 0, 0, 0, 0, 0, 0, 0,\n",
              "       1, 0, 0, 1, 0, 1, 0, 0, 0, 0, 0, 0, 0, 0, 0, 0, 0, 0, 0, 0, 0, 0,\n",
              "       0, 0, 0, 0, 0, 0, 1, 1, 0, 0, 0, 1, 1, 0, 0, 1, 0, 0, 0, 0, 1, 1,\n",
              "       0, 0, 0, 0, 1, 0, 0, 0, 0, 0, 0, 0, 0, 0, 0, 0, 0, 1, 0, 0, 0, 0,\n",
              "       0, 0, 1, 0, 0, 1, 0, 1, 0, 0, 0])"
            ]
          },
          "metadata": {},
          "execution_count": 13
        }
      ],
      "source": [
        "y_test"
      ]
    },
    {
      "cell_type": "markdown",
      "source": [
        "Controllo che il dataset sia stato splittato correttamente"
      ],
      "metadata": {
        "id": "UOWQxoQpSQw1"
      }
    },
    {
      "cell_type": "code",
      "execution_count": null,
      "metadata": {
        "colab": {
          "base_uri": "https://localhost:8080/"
        },
        "id": "7G418ofjCvgB",
        "outputId": "2e7d516e-6bd6-44f3-fbca-4bf06e161fa3"
      },
      "outputs": [
        {
          "output_type": "execute_result",
          "data": {
            "text/plain": [
              "20754"
            ]
          },
          "metadata": {},
          "execution_count": 14
        }
      ],
      "source": [
        "X_train.size"
      ]
    },
    {
      "cell_type": "code",
      "execution_count": null,
      "metadata": {
        "colab": {
          "base_uri": "https://localhost:8080/"
        },
        "id": "IIYfY0iDC0z-",
        "outputId": "7f6a5576-1615-4064-a29c-a9e9db9da649"
      },
      "outputs": [
        {
          "output_type": "execute_result",
          "data": {
            "text/plain": [
              "3456"
            ]
          },
          "metadata": {},
          "execution_count": 15
        }
      ],
      "source": [
        "X_val.size"
      ]
    },
    {
      "cell_type": "code",
      "execution_count": null,
      "metadata": {
        "colab": {
          "base_uri": "https://localhost:8080/"
        },
        "id": "OZlDenmWC4Wh",
        "outputId": "df6183f0-499d-4799-d4c8-c13fb999ae4b"
      },
      "outputs": [
        {
          "output_type": "execute_result",
          "data": {
            "text/plain": [
              "3465"
            ]
          },
          "metadata": {},
          "execution_count": 16
        }
      ],
      "source": [
        "X_test.size"
      ]
    },
    {
      "cell_type": "code",
      "execution_count": null,
      "metadata": {
        "colab": {
          "base_uri": "https://localhost:8080/"
        },
        "id": "G7V45S4zC6nL",
        "outputId": "171bf185-768c-4412-a69b-ce82d0518b3f"
      },
      "outputs": [
        {
          "output_type": "execute_result",
          "data": {
            "text/plain": [
              "2306"
            ]
          },
          "metadata": {},
          "execution_count": 17
        }
      ],
      "source": [
        "y_train.size"
      ]
    },
    {
      "cell_type": "code",
      "execution_count": null,
      "metadata": {
        "colab": {
          "base_uri": "https://localhost:8080/"
        },
        "id": "gESMmNOIC8Us",
        "outputId": "89270ebc-9a66-40c1-ef21-853ea13c2288"
      },
      "outputs": [
        {
          "output_type": "execute_result",
          "data": {
            "text/plain": [
              "385"
            ]
          },
          "metadata": {},
          "execution_count": 18
        }
      ],
      "source": [
        "y_test.size"
      ]
    },
    {
      "cell_type": "code",
      "execution_count": null,
      "metadata": {
        "colab": {
          "base_uri": "https://localhost:8080/"
        },
        "id": "op2xrNe7C94a",
        "outputId": "a8b624f9-6bb7-47be-ec4c-a557d046c16a"
      },
      "outputs": [
        {
          "output_type": "execute_result",
          "data": {
            "text/plain": [
              "384"
            ]
          },
          "metadata": {},
          "execution_count": 19
        }
      ],
      "source": [
        "y_val.size"
      ]
    },
    {
      "cell_type": "markdown",
      "metadata": {
        "id": "sKB7h0aeXWHE"
      },
      "source": [
        "RIscalo i valori in modo che siano compresi in un range tra 0 e 1 per evitare fenomeni di exploding gradient"
      ]
    },
    {
      "cell_type": "code",
      "execution_count": null,
      "metadata": {
        "id": "W865c4LyUFex"
      },
      "outputs": [],
      "source": [
        "y_train_r=y_train.reshape(-1, 1)\n",
        "y_test_r=y_test.reshape(-1, 1)\n",
        "y_val_r=y_val.reshape(-1, 1)"
      ]
    },
    {
      "cell_type": "code",
      "execution_count": null,
      "metadata": {
        "id": "3TFfpPAbTnVo"
      },
      "outputs": [],
      "source": [
        "from sklearn.preprocessing import MinMaxScaler\n",
        "scaler = MinMaxScaler(feature_range=(0, 1))\n",
        "rescaledX_train = scaler.fit_transform(X_train)\n",
        "rescaledy_train = scaler.fit_transform(y_train_r)\n",
        "rescaledX_test = scaler.fit_transform(X_test)\n",
        "rescaledy_test = scaler.fit_transform(y_test_r)\n",
        "rescaledX_val = scaler.fit_transform(X_val)\n",
        "rescaledy_val = scaler.fit_transform(y_val_r)"
      ]
    },
    {
      "cell_type": "markdown",
      "metadata": {
        "id": "dpM-Pf-QnEO9"
      },
      "source": [
        "Creo una callback che mi interrompa l'apprendimento a un dato valore di validation loss, pr e roc"
      ]
    },
    {
      "cell_type": "code",
      "execution_count": null,
      "metadata": {
        "id": "JZrmbvJQlILl"
      },
      "outputs": [],
      "source": [
        "class haltCallback(tf.keras.callbacks.Callback):\n",
        "    def on_epoch_end(self, epoch, logs={}):\n",
        "        if((logs.get('val_auc') >= 1) and (logs.get('val_loss') <= 0.02) and (logs.get('val_auc_1') >= 1)):\n",
        "            print(\"\\n\\n\\nReached best value so cancelling training!\\n\\n\\n\")\n",
        "            self.model.stop_training = True\n",
        "\n",
        "\n",
        "trainingStopCallback = haltCallback()\n"
      ]
    },
    {
      "cell_type": "code",
      "source": [
        "from google.colab import drive\n",
        "drive.mount('/content/drive')"
      ],
      "metadata": {
        "colab": {
          "base_uri": "https://localhost:8080/"
        },
        "id": "Tki9JalN2X63",
        "outputId": "185d9dc0-711d-451d-cbb1-ea5f3f2ef86b"
      },
      "execution_count": null,
      "outputs": [
        {
          "output_type": "stream",
          "name": "stdout",
          "text": [
            "Drive already mounted at /content/drive; to attempt to forcibly remount, call drive.mount(\"/content/drive\", force_remount=True).\n"
          ]
        }
      ]
    },
    {
      "cell_type": "markdown",
      "metadata": {
        "id": "VezhyAXoXfqe"
      },
      "source": [
        "Genero una rete fully connected con 9 neuroni di input, uno strato nascosto da 6 neuroni, uno strato di dropout con probabilità 0.5, uno strato nascosto di 10 neuroni con regolarizzazione l2, uno strato nascosto di 6 neuroni e un neurone di output che ha come funzione di attivazione la sigmoide in quanto deve fare classificazione binaria. come ottimizzatore è stato usato adam, come loss la binary crossentropy e come metriche la roc e la pr."
      ]
    },
    {
      "cell_type": "code",
      "execution_count": null,
      "metadata": {
        "colab": {
          "base_uri": "https://localhost:8080/"
        },
        "id": "_VEqehB8BA5I",
        "outputId": "d2b94d74-1ea8-45ee-b1d0-97a29fbc51cc"
      },
      "outputs": [
        {
          "output_type": "stream",
          "name": "stdout",
          "text": [
            "Model: \"sequential\"\n",
            "_________________________________________________________________\n",
            " Layer (type)                Output Shape              Param #   \n",
            "=================================================================\n",
            " dense (Dense)               (None, 6)                 60        \n",
            "                                                                 \n",
            " dropout (Dropout)           (None, 6)                 0         \n",
            "                                                                 \n",
            " dense_1 (Dense)             (None, 10)                70        \n",
            "                                                                 \n",
            " dense_2 (Dense)             (None, 6)                 66        \n",
            "                                                                 \n",
            " dense_3 (Dense)             (None, 1)                 7         \n",
            "                                                                 \n",
            "=================================================================\n",
            "Total params: 203\n",
            "Trainable params: 203\n",
            "Non-trainable params: 0\n",
            "_________________________________________________________________\n"
          ]
        }
      ],
      "source": [
        "model1 = keras.Sequential([\n",
        "     keras.layers.Dense(6, activation=tf.nn.relu, input_shape=(9,)),\n",
        "     keras.layers.Dropout(0.5),\n",
        "    keras.layers.Dense(10, kernel_regularizer=keras.regularizers.l2(0.01), activation=tf.nn.relu),\n",
        "    keras.layers.Dense(6,  activation=tf.nn.relu),\n",
        "    keras.layers.Dense(1, activation=tf.nn.sigmoid)\n",
        "])\n",
        "\n",
        "model1.compile(optimizer='adam',\n",
        "                       loss='binary_crossentropy',\n",
        "                       metrics=['accuracy', 'binary_crossentropy', tf.keras.metrics.AUC(curve=\"PR\"), tf.keras.metrics.AUC(curve=\"ROC\")])\n",
        "\n",
        "model1.summary()"
      ]
    },
    {
      "cell_type": "markdown",
      "metadata": {
        "id": "aAFGGuRuXoon"
      },
      "source": [
        "Addestro la rete mediante batch gradient discend con batch da 32 unità. il numero di epoche è arbitrario in quanto sarà la callback a fermare l'apprendimento."
      ]
    },
    {
      "cell_type": "code",
      "execution_count": null,
      "metadata": {
        "colab": {
          "base_uri": "https://localhost:8080/"
        },
        "id": "Cj85QHnpBP82",
        "outputId": "adebe39a-3223-4a55-f694-43742efeb68f"
      },
      "outputs": [
        {
          "output_type": "stream",
          "name": "stdout",
          "text": [
            "Epoch 1/6000\n",
            "73/73 [==============================] - 2s 11ms/step - loss: 0.7192 - accuracy: 0.7884 - binary_crossentropy: 0.6646 - auc: 0.4931 - auc_1: 0.7380 - val_loss: 0.6660 - val_accuracy: 0.8698 - val_binary_crossentropy: 0.6200 - val_auc: 0.5939 - val_auc_1: 0.8746\n",
            "Epoch 2/6000\n",
            "73/73 [==============================] - 0s 4ms/step - loss: 0.6124 - accuracy: 0.8886 - binary_crossentropy: 0.5723 - auc: 0.4923 - auc_1: 0.7144 - val_loss: 0.5285 - val_accuracy: 0.8646 - val_binary_crossentropy: 0.4931 - val_auc: 0.6924 - val_auc_1: 0.9177\n",
            "Epoch 3/6000\n",
            "73/73 [==============================] - 0s 4ms/step - loss: 0.4803 - accuracy: 0.8881 - binary_crossentropy: 0.4472 - auc: 0.5609 - auc_1: 0.7665 - val_loss: 0.3856 - val_accuracy: 0.8672 - val_binary_crossentropy: 0.3544 - val_auc: 0.7835 - val_auc_1: 0.9331\n",
            "Epoch 4/6000\n",
            "73/73 [==============================] - 0s 5ms/step - loss: 0.3648 - accuracy: 0.8972 - binary_crossentropy: 0.3346 - auc: 0.6887 - auc_1: 0.8714 - val_loss: 0.2868 - val_accuracy: 0.8854 - val_binary_crossentropy: 0.2576 - val_auc: 0.8959 - val_auc_1: 0.9729\n",
            "Epoch 5/6000\n",
            "73/73 [==============================] - 0s 5ms/step - loss: 0.3075 - accuracy: 0.9089 - binary_crossentropy: 0.2790 - auc: 0.7119 - auc_1: 0.8891 - val_loss: 0.2089 - val_accuracy: 0.9271 - val_binary_crossentropy: 0.1814 - val_auc: 0.9561 - val_auc_1: 0.9932\n",
            "Epoch 6/6000\n",
            "73/73 [==============================] - 0s 4ms/step - loss: 0.2883 - accuracy: 0.9115 - binary_crossentropy: 0.2618 - auc: 0.6960 - auc_1: 0.8991 - val_loss: 0.1814 - val_accuracy: 0.9401 - val_binary_crossentropy: 0.1561 - val_auc: 0.9672 - val_auc_1: 0.9949\n",
            "Epoch 7/6000\n",
            "73/73 [==============================] - 0s 4ms/step - loss: 0.2544 - accuracy: 0.9206 - binary_crossentropy: 0.2295 - auc: 0.7583 - auc_1: 0.9355 - val_loss: 0.1554 - val_accuracy: 0.9557 - val_binary_crossentropy: 0.1312 - val_auc: 0.9676 - val_auc_1: 0.9946\n",
            "Epoch 8/6000\n",
            "73/73 [==============================] - 0s 4ms/step - loss: 0.2374 - accuracy: 0.9254 - binary_crossentropy: 0.2135 - auc: 0.7996 - auc_1: 0.9334 - val_loss: 0.1368 - val_accuracy: 0.9661 - val_binary_crossentropy: 0.1134 - val_auc: 0.9651 - val_auc_1: 0.9940\n",
            "Epoch 9/6000\n",
            "73/73 [==============================] - 0s 5ms/step - loss: 0.2230 - accuracy: 0.9319 - binary_crossentropy: 0.2001 - auc: 0.8061 - auc_1: 0.9438 - val_loss: 0.1265 - val_accuracy: 0.9688 - val_binary_crossentropy: 0.1044 - val_auc: 0.9650 - val_auc_1: 0.9939\n",
            "Epoch 10/6000\n",
            "73/73 [==============================] - 0s 5ms/step - loss: 0.2080 - accuracy: 0.9341 - binary_crossentropy: 0.1864 - auc: 0.8399 - auc_1: 0.9527 - val_loss: 0.1295 - val_accuracy: 0.9609 - val_binary_crossentropy: 0.1084 - val_auc: 0.9631 - val_auc_1: 0.9934\n",
            "Epoch 11/6000\n",
            "73/73 [==============================] - 0s 4ms/step - loss: 0.2056 - accuracy: 0.9371 - binary_crossentropy: 0.1855 - auc: 0.8330 - auc_1: 0.9509 - val_loss: 0.1222 - val_accuracy: 0.9635 - val_binary_crossentropy: 0.1026 - val_auc: 0.9641 - val_auc_1: 0.9936\n",
            "Epoch 12/6000\n",
            "73/73 [==============================] - 0s 4ms/step - loss: 0.1951 - accuracy: 0.9406 - binary_crossentropy: 0.1757 - auc: 0.8468 - auc_1: 0.9538 - val_loss: 0.1240 - val_accuracy: 0.9583 - val_binary_crossentropy: 0.1046 - val_auc: 0.9613 - val_auc_1: 0.9930\n",
            "Epoch 13/6000\n",
            "73/73 [==============================] - 0s 4ms/step - loss: 0.1913 - accuracy: 0.9410 - binary_crossentropy: 0.1726 - auc: 0.8533 - auc_1: 0.9602 - val_loss: 0.1255 - val_accuracy: 0.9505 - val_binary_crossentropy: 0.1074 - val_auc: 0.9510 - val_auc_1: 0.9909\n",
            "Epoch 14/6000\n",
            "73/73 [==============================] - 0s 4ms/step - loss: 0.1732 - accuracy: 0.9484 - binary_crossentropy: 0.1553 - auc: 0.8712 - auc_1: 0.9641 - val_loss: 0.1290 - val_accuracy: 0.9479 - val_binary_crossentropy: 0.1116 - val_auc: 0.9493 - val_auc_1: 0.9905\n",
            "Epoch 15/6000\n",
            "73/73 [==============================] - 0s 4ms/step - loss: 0.1901 - accuracy: 0.9402 - binary_crossentropy: 0.1731 - auc: 0.8545 - auc_1: 0.9546 - val_loss: 0.1415 - val_accuracy: 0.9479 - val_binary_crossentropy: 0.1248 - val_auc: 0.9480 - val_auc_1: 0.9901\n",
            "Epoch 16/6000\n",
            "73/73 [==============================] - 0s 5ms/step - loss: 0.1721 - accuracy: 0.9484 - binary_crossentropy: 0.1553 - auc: 0.8815 - auc_1: 0.9668 - val_loss: 0.1208 - val_accuracy: 0.9583 - val_binary_crossentropy: 0.1041 - val_auc: 0.9596 - val_auc_1: 0.9926\n",
            "Epoch 17/6000\n",
            "73/73 [==============================] - 0s 4ms/step - loss: 0.1708 - accuracy: 0.9458 - binary_crossentropy: 0.1543 - auc: 0.8758 - auc_1: 0.9613 - val_loss: 0.1263 - val_accuracy: 0.9531 - val_binary_crossentropy: 0.1102 - val_auc: 0.9565 - val_auc_1: 0.9918\n",
            "Epoch 18/6000\n",
            "73/73 [==============================] - 0s 4ms/step - loss: 0.1671 - accuracy: 0.9471 - binary_crossentropy: 0.1513 - auc: 0.8778 - auc_1: 0.9611 - val_loss: 0.1418 - val_accuracy: 0.9505 - val_binary_crossentropy: 0.1258 - val_auc: 0.9541 - val_auc_1: 0.9914\n",
            "Epoch 19/6000\n",
            "73/73 [==============================] - 0s 4ms/step - loss: 0.1763 - accuracy: 0.9462 - binary_crossentropy: 0.1610 - auc: 0.8599 - auc_1: 0.9558 - val_loss: 0.1281 - val_accuracy: 0.9479 - val_binary_crossentropy: 0.1130 - val_auc: 0.9542 - val_auc_1: 0.9914\n",
            "Epoch 20/6000\n",
            "73/73 [==============================] - 0s 4ms/step - loss: 0.1591 - accuracy: 0.9514 - binary_crossentropy: 0.1440 - auc: 0.8909 - auc_1: 0.9700 - val_loss: 0.1194 - val_accuracy: 0.9557 - val_binary_crossentropy: 0.1043 - val_auc: 0.9590 - val_auc_1: 0.9925\n",
            "Epoch 21/6000\n",
            "73/73 [==============================] - 0s 4ms/step - loss: 0.1549 - accuracy: 0.9553 - binary_crossentropy: 0.1396 - auc: 0.8998 - auc_1: 0.9685 - val_loss: 0.1345 - val_accuracy: 0.9505 - val_binary_crossentropy: 0.1192 - val_auc: 0.9583 - val_auc_1: 0.9924\n",
            "Epoch 22/6000\n",
            "73/73 [==============================] - 0s 4ms/step - loss: 0.1632 - accuracy: 0.9480 - binary_crossentropy: 0.1484 - auc: 0.8886 - auc_1: 0.9693 - val_loss: 0.1280 - val_accuracy: 0.9531 - val_binary_crossentropy: 0.1134 - val_auc: 0.9635 - val_auc_1: 0.9935\n",
            "Epoch 23/6000\n",
            "73/73 [==============================] - 0s 5ms/step - loss: 0.1587 - accuracy: 0.9488 - binary_crossentropy: 0.1445 - auc: 0.8980 - auc_1: 0.9724 - val_loss: 0.1171 - val_accuracy: 0.9609 - val_binary_crossentropy: 0.1028 - val_auc: 0.9646 - val_auc_1: 0.9937\n",
            "Epoch 24/6000\n",
            "73/73 [==============================] - 0s 4ms/step - loss: 0.1566 - accuracy: 0.9514 - binary_crossentropy: 0.1425 - auc: 0.8933 - auc_1: 0.9699 - val_loss: 0.1080 - val_accuracy: 0.9609 - val_binary_crossentropy: 0.0939 - val_auc: 0.9680 - val_auc_1: 0.9944\n",
            "Epoch 25/6000\n",
            "73/73 [==============================] - 0s 4ms/step - loss: 0.1478 - accuracy: 0.9588 - binary_crossentropy: 0.1337 - auc: 0.9068 - auc_1: 0.9687 - val_loss: 0.1114 - val_accuracy: 0.9609 - val_binary_crossentropy: 0.0973 - val_auc: 0.9707 - val_auc_1: 0.9949\n",
            "Epoch 26/6000\n",
            "73/73 [==============================] - 0s 5ms/step - loss: 0.1509 - accuracy: 0.9514 - binary_crossentropy: 0.1369 - auc: 0.8987 - auc_1: 0.9756 - val_loss: 0.1213 - val_accuracy: 0.9609 - val_binary_crossentropy: 0.1072 - val_auc: 0.9693 - val_auc_1: 0.9946\n",
            "Epoch 27/6000\n",
            "73/73 [==============================] - 0s 5ms/step - loss: 0.1507 - accuracy: 0.9523 - binary_crossentropy: 0.1367 - auc: 0.9013 - auc_1: 0.9677 - val_loss: 0.1228 - val_accuracy: 0.9583 - val_binary_crossentropy: 0.1090 - val_auc: 0.9679 - val_auc_1: 0.9944\n",
            "Epoch 28/6000\n",
            "73/73 [==============================] - 0s 5ms/step - loss: 0.1442 - accuracy: 0.9584 - binary_crossentropy: 0.1304 - auc: 0.9076 - auc_1: 0.9733 - val_loss: 0.1128 - val_accuracy: 0.9635 - val_binary_crossentropy: 0.0993 - val_auc: 0.9665 - val_auc_1: 0.9940\n",
            "Epoch 29/6000\n",
            "73/73 [==============================] - 0s 4ms/step - loss: 0.1447 - accuracy: 0.9558 - binary_crossentropy: 0.1312 - auc: 0.9097 - auc_1: 0.9739 - val_loss: 0.1119 - val_accuracy: 0.9635 - val_binary_crossentropy: 0.0985 - val_auc: 0.9676 - val_auc_1: 0.9943\n",
            "Epoch 30/6000\n",
            "73/73 [==============================] - 0s 4ms/step - loss: 0.1448 - accuracy: 0.9519 - binary_crossentropy: 0.1315 - auc: 0.9086 - auc_1: 0.9716 - val_loss: 0.1278 - val_accuracy: 0.9583 - val_binary_crossentropy: 0.1144 - val_auc: 0.9706 - val_auc_1: 0.9949\n",
            "Epoch 31/6000\n",
            "73/73 [==============================] - 0s 4ms/step - loss: 0.1364 - accuracy: 0.9614 - binary_crossentropy: 0.1232 - auc: 0.9147 - auc_1: 0.9723 - val_loss: 0.1262 - val_accuracy: 0.9557 - val_binary_crossentropy: 0.1131 - val_auc: 0.9693 - val_auc_1: 0.9946\n",
            "Epoch 32/6000\n",
            "73/73 [==============================] - 0s 4ms/step - loss: 0.1444 - accuracy: 0.9571 - binary_crossentropy: 0.1318 - auc: 0.9104 - auc_1: 0.9737 - val_loss: 0.1265 - val_accuracy: 0.9479 - val_binary_crossentropy: 0.1137 - val_auc: 0.9642 - val_auc_1: 0.9935\n",
            "Epoch 33/6000\n",
            "73/73 [==============================] - 0s 4ms/step - loss: 0.1425 - accuracy: 0.9558 - binary_crossentropy: 0.1299 - auc: 0.9065 - auc_1: 0.9709 - val_loss: 0.1099 - val_accuracy: 0.9609 - val_binary_crossentropy: 0.0974 - val_auc: 0.9664 - val_auc_1: 0.9939\n",
            "Epoch 34/6000\n",
            "73/73 [==============================] - 0s 4ms/step - loss: 0.1385 - accuracy: 0.9566 - binary_crossentropy: 0.1259 - auc: 0.9212 - auc_1: 0.9810 - val_loss: 0.1258 - val_accuracy: 0.9531 - val_binary_crossentropy: 0.1131 - val_auc: 0.9666 - val_auc_1: 0.9940\n",
            "Epoch 35/6000\n",
            "73/73 [==============================] - 0s 4ms/step - loss: 0.1249 - accuracy: 0.9584 - binary_crossentropy: 0.1125 - auc: 0.9347 - auc_1: 0.9798 - val_loss: 0.1030 - val_accuracy: 0.9635 - val_binary_crossentropy: 0.0907 - val_auc: 0.9715 - val_auc_1: 0.9950\n",
            "Epoch 36/6000\n",
            "73/73 [==============================] - 0s 4ms/step - loss: 0.1323 - accuracy: 0.9601 - binary_crossentropy: 0.1198 - auc: 0.9167 - auc_1: 0.9775 - val_loss: 0.1058 - val_accuracy: 0.9609 - val_binary_crossentropy: 0.0935 - val_auc: 0.9709 - val_auc_1: 0.9949\n",
            "Epoch 37/6000\n",
            "73/73 [==============================] - 0s 4ms/step - loss: 0.1217 - accuracy: 0.9640 - binary_crossentropy: 0.1095 - auc: 0.9326 - auc_1: 0.9810 - val_loss: 0.1108 - val_accuracy: 0.9583 - val_binary_crossentropy: 0.0985 - val_auc: 0.9730 - val_auc_1: 0.9953\n",
            "Epoch 38/6000\n",
            "73/73 [==============================] - 0s 4ms/step - loss: 0.1164 - accuracy: 0.9692 - binary_crossentropy: 0.1043 - auc: 0.9353 - auc_1: 0.9836 - val_loss: 0.1009 - val_accuracy: 0.9635 - val_binary_crossentropy: 0.0888 - val_auc: 0.9737 - val_auc_1: 0.9954\n",
            "Epoch 39/6000\n",
            "73/73 [==============================] - 0s 4ms/step - loss: 0.1244 - accuracy: 0.9627 - binary_crossentropy: 0.1124 - auc: 0.9314 - auc_1: 0.9778 - val_loss: 0.1007 - val_accuracy: 0.9635 - val_binary_crossentropy: 0.0889 - val_auc: 0.9744 - val_auc_1: 0.9955\n",
            "Epoch 40/6000\n",
            "73/73 [==============================] - 0s 4ms/step - loss: 0.1235 - accuracy: 0.9623 - binary_crossentropy: 0.1116 - auc: 0.9273 - auc_1: 0.9788 - val_loss: 0.1101 - val_accuracy: 0.9583 - val_binary_crossentropy: 0.0984 - val_auc: 0.9733 - val_auc_1: 0.9954\n",
            "Epoch 41/6000\n",
            "73/73 [==============================] - 0s 4ms/step - loss: 0.1304 - accuracy: 0.9618 - binary_crossentropy: 0.1189 - auc: 0.9195 - auc_1: 0.9744 - val_loss: 0.1047 - val_accuracy: 0.9609 - val_binary_crossentropy: 0.0932 - val_auc: 0.9748 - val_auc_1: 0.9956\n",
            "Epoch 42/6000\n",
            "73/73 [==============================] - 0s 5ms/step - loss: 0.1234 - accuracy: 0.9623 - binary_crossentropy: 0.1118 - auc: 0.9275 - auc_1: 0.9792 - val_loss: 0.1035 - val_accuracy: 0.9609 - val_binary_crossentropy: 0.0921 - val_auc: 0.9789 - val_auc_1: 0.9963\n",
            "Epoch 43/6000\n",
            "73/73 [==============================] - 0s 4ms/step - loss: 0.1275 - accuracy: 0.9610 - binary_crossentropy: 0.1164 - auc: 0.9267 - auc_1: 0.9792 - val_loss: 0.1112 - val_accuracy: 0.9609 - val_binary_crossentropy: 0.1000 - val_auc: 0.9774 - val_auc_1: 0.9961\n",
            "Epoch 44/6000\n",
            "73/73 [==============================] - 0s 4ms/step - loss: 0.1305 - accuracy: 0.9592 - binary_crossentropy: 0.1196 - auc: 0.9205 - auc_1: 0.9756 - val_loss: 0.0950 - val_accuracy: 0.9635 - val_binary_crossentropy: 0.0841 - val_auc: 0.9784 - val_auc_1: 0.9962\n",
            "Epoch 45/6000\n",
            "73/73 [==============================] - 0s 3ms/step - loss: 0.1201 - accuracy: 0.9631 - binary_crossentropy: 0.1090 - auc: 0.9331 - auc_1: 0.9810 - val_loss: 0.1040 - val_accuracy: 0.9609 - val_binary_crossentropy: 0.0929 - val_auc: 0.9783 - val_auc_1: 0.9962\n",
            "Epoch 46/6000\n",
            "73/73 [==============================] - 0s 4ms/step - loss: 0.1264 - accuracy: 0.9640 - binary_crossentropy: 0.1153 - auc: 0.9261 - auc_1: 0.9781 - val_loss: 0.0965 - val_accuracy: 0.9635 - val_binary_crossentropy: 0.0854 - val_auc: 0.9798 - val_auc_1: 0.9965\n",
            "Epoch 47/6000\n",
            "73/73 [==============================] - 0s 4ms/step - loss: 0.1148 - accuracy: 0.9610 - binary_crossentropy: 0.1037 - auc: 0.9403 - auc_1: 0.9839 - val_loss: 0.1104 - val_accuracy: 0.9609 - val_binary_crossentropy: 0.0992 - val_auc: 0.9789 - val_auc_1: 0.9964\n",
            "Epoch 48/6000\n",
            "73/73 [==============================] - 0s 4ms/step - loss: 0.1286 - accuracy: 0.9614 - binary_crossentropy: 0.1174 - auc: 0.9195 - auc_1: 0.9776 - val_loss: 0.1020 - val_accuracy: 0.9583 - val_binary_crossentropy: 0.0909 - val_auc: 0.9769 - val_auc_1: 0.9960\n",
            "Epoch 49/6000\n",
            "73/73 [==============================] - 0s 4ms/step - loss: 0.1238 - accuracy: 0.9627 - binary_crossentropy: 0.1129 - auc: 0.9281 - auc_1: 0.9777 - val_loss: 0.0833 - val_accuracy: 0.9714 - val_binary_crossentropy: 0.0726 - val_auc: 0.9797 - val_auc_1: 0.9964\n",
            "Epoch 50/6000\n",
            "73/73 [==============================] - 0s 4ms/step - loss: 0.1231 - accuracy: 0.9610 - binary_crossentropy: 0.1125 - auc: 0.9320 - auc_1: 0.9795 - val_loss: 0.0868 - val_accuracy: 0.9714 - val_binary_crossentropy: 0.0763 - val_auc: 0.9783 - val_auc_1: 0.9962\n",
            "Epoch 51/6000\n",
            "73/73 [==============================] - 0s 4ms/step - loss: 0.1373 - accuracy: 0.9592 - binary_crossentropy: 0.1267 - auc: 0.9126 - auc_1: 0.9740 - val_loss: 0.0837 - val_accuracy: 0.9714 - val_binary_crossentropy: 0.0732 - val_auc: 0.9803 - val_auc_1: 0.9965\n",
            "Epoch 52/6000\n",
            "73/73 [==============================] - 0s 4ms/step - loss: 0.1086 - accuracy: 0.9679 - binary_crossentropy: 0.0980 - auc: 0.9425 - auc_1: 0.9855 - val_loss: 0.0823 - val_accuracy: 0.9714 - val_binary_crossentropy: 0.0719 - val_auc: 0.9811 - val_auc_1: 0.9967\n",
            "Epoch 53/6000\n",
            "73/73 [==============================] - 0s 5ms/step - loss: 0.1180 - accuracy: 0.9644 - binary_crossentropy: 0.1078 - auc: 0.9308 - auc_1: 0.9785 - val_loss: 0.0860 - val_accuracy: 0.9714 - val_binary_crossentropy: 0.0759 - val_auc: 0.9812 - val_auc_1: 0.9967\n",
            "Epoch 54/6000\n",
            "73/73 [==============================] - 0s 5ms/step - loss: 0.1192 - accuracy: 0.9627 - binary_crossentropy: 0.1091 - auc: 0.9347 - auc_1: 0.9822 - val_loss: 0.0934 - val_accuracy: 0.9635 - val_binary_crossentropy: 0.0832 - val_auc: 0.9840 - val_auc_1: 0.9973\n",
            "Epoch 55/6000\n",
            "73/73 [==============================] - 0s 4ms/step - loss: 0.1297 - accuracy: 0.9610 - binary_crossentropy: 0.1197 - auc: 0.9208 - auc_1: 0.9787 - val_loss: 0.0923 - val_accuracy: 0.9635 - val_binary_crossentropy: 0.0823 - val_auc: 0.9815 - val_auc_1: 0.9967\n",
            "Epoch 56/6000\n",
            "73/73 [==============================] - 0s 4ms/step - loss: 0.1162 - accuracy: 0.9627 - binary_crossentropy: 0.1061 - auc: 0.9335 - auc_1: 0.9832 - val_loss: 0.0950 - val_accuracy: 0.9609 - val_binary_crossentropy: 0.0850 - val_auc: 0.9819 - val_auc_1: 0.9968\n",
            "Epoch 57/6000\n",
            "73/73 [==============================] - 0s 4ms/step - loss: 0.1178 - accuracy: 0.9618 - binary_crossentropy: 0.1081 - auc: 0.9357 - auc_1: 0.9826 - val_loss: 0.0755 - val_accuracy: 0.9688 - val_binary_crossentropy: 0.0655 - val_auc: 0.9795 - val_auc_1: 0.9962\n",
            "Epoch 58/6000\n",
            "73/73 [==============================] - 0s 4ms/step - loss: 0.1142 - accuracy: 0.9649 - binary_crossentropy: 0.1041 - auc: 0.9413 - auc_1: 0.9857 - val_loss: 0.0736 - val_accuracy: 0.9714 - val_binary_crossentropy: 0.0635 - val_auc: 0.9815 - val_auc_1: 0.9967\n",
            "Epoch 59/6000\n",
            "73/73 [==============================] - 0s 3ms/step - loss: 0.1097 - accuracy: 0.9662 - binary_crossentropy: 0.0996 - auc: 0.9391 - auc_1: 0.9827 - val_loss: 0.0875 - val_accuracy: 0.9714 - val_binary_crossentropy: 0.0774 - val_auc: 0.9833 - val_auc_1: 0.9970\n",
            "Epoch 60/6000\n",
            "73/73 [==============================] - 0s 4ms/step - loss: 0.1097 - accuracy: 0.9653 - binary_crossentropy: 0.0995 - auc: 0.9424 - auc_1: 0.9860 - val_loss: 0.0808 - val_accuracy: 0.9714 - val_binary_crossentropy: 0.0705 - val_auc: 0.9845 - val_auc_1: 0.9973\n",
            "Epoch 61/6000\n",
            "73/73 [==============================] - 0s 3ms/step - loss: 0.1043 - accuracy: 0.9701 - binary_crossentropy: 0.0942 - auc: 0.9465 - auc_1: 0.9863 - val_loss: 0.0749 - val_accuracy: 0.9714 - val_binary_crossentropy: 0.0651 - val_auc: 0.9845 - val_auc_1: 0.9973\n",
            "Epoch 62/6000\n",
            "73/73 [==============================] - 0s 4ms/step - loss: 0.1092 - accuracy: 0.9662 - binary_crossentropy: 0.0994 - auc: 0.9448 - auc_1: 0.9838 - val_loss: 0.0782 - val_accuracy: 0.9714 - val_binary_crossentropy: 0.0687 - val_auc: 0.9839 - val_auc_1: 0.9972\n",
            "Epoch 63/6000\n",
            "73/73 [==============================] - 0s 4ms/step - loss: 0.1120 - accuracy: 0.9662 - binary_crossentropy: 0.1027 - auc: 0.9394 - auc_1: 0.9837 - val_loss: 0.0815 - val_accuracy: 0.9714 - val_binary_crossentropy: 0.0721 - val_auc: 0.9821 - val_auc_1: 0.9968\n",
            "Epoch 64/6000\n",
            "73/73 [==============================] - 0s 4ms/step - loss: 0.1105 - accuracy: 0.9705 - binary_crossentropy: 0.1009 - auc: 0.9419 - auc_1: 0.9853 - val_loss: 0.0813 - val_accuracy: 0.9714 - val_binary_crossentropy: 0.0718 - val_auc: 0.9836 - val_auc_1: 0.9971\n",
            "Epoch 65/6000\n",
            "73/73 [==============================] - 0s 4ms/step - loss: 0.1061 - accuracy: 0.9696 - binary_crossentropy: 0.0967 - auc: 0.9458 - auc_1: 0.9846 - val_loss: 0.0710 - val_accuracy: 0.9688 - val_binary_crossentropy: 0.0618 - val_auc: 0.9839 - val_auc_1: 0.9972\n",
            "Epoch 66/6000\n",
            "73/73 [==============================] - 0s 4ms/step - loss: 0.1044 - accuracy: 0.9662 - binary_crossentropy: 0.0950 - auc: 0.9429 - auc_1: 0.9856 - val_loss: 0.0694 - val_accuracy: 0.9688 - val_binary_crossentropy: 0.0600 - val_auc: 0.9858 - val_auc_1: 0.9975\n",
            "Epoch 67/6000\n",
            "73/73 [==============================] - 0s 4ms/step - loss: 0.1155 - accuracy: 0.9623 - binary_crossentropy: 0.1062 - auc: 0.9310 - auc_1: 0.9809 - val_loss: 0.0721 - val_accuracy: 0.9688 - val_binary_crossentropy: 0.0628 - val_auc: 0.9848 - val_auc_1: 0.9973\n",
            "Epoch 68/6000\n",
            "73/73 [==============================] - 0s 3ms/step - loss: 0.1065 - accuracy: 0.9670 - binary_crossentropy: 0.0971 - auc: 0.9443 - auc_1: 0.9872 - val_loss: 0.0694 - val_accuracy: 0.9688 - val_binary_crossentropy: 0.0598 - val_auc: 0.9857 - val_auc_1: 0.9975\n",
            "Epoch 69/6000\n",
            "73/73 [==============================] - 0s 4ms/step - loss: 0.0956 - accuracy: 0.9744 - binary_crossentropy: 0.0861 - auc: 0.9532 - auc_1: 0.9868 - val_loss: 0.0699 - val_accuracy: 0.9688 - val_binary_crossentropy: 0.0606 - val_auc: 0.9845 - val_auc_1: 0.9973\n",
            "Epoch 70/6000\n",
            "73/73 [==============================] - 0s 4ms/step - loss: 0.1131 - accuracy: 0.9662 - binary_crossentropy: 0.1041 - auc: 0.9362 - auc_1: 0.9823 - val_loss: 0.0690 - val_accuracy: 0.9688 - val_binary_crossentropy: 0.0600 - val_auc: 0.9837 - val_auc_1: 0.9971\n",
            "Epoch 71/6000\n",
            "73/73 [==============================] - 0s 4ms/step - loss: 0.1102 - accuracy: 0.9662 - binary_crossentropy: 0.1010 - auc: 0.9389 - auc_1: 0.9839 - val_loss: 0.0646 - val_accuracy: 0.9740 - val_binary_crossentropy: 0.0555 - val_auc: 0.9855 - val_auc_1: 0.9974\n",
            "Epoch 72/6000\n",
            "73/73 [==============================] - 0s 4ms/step - loss: 0.1159 - accuracy: 0.9631 - binary_crossentropy: 0.1067 - auc: 0.9328 - auc_1: 0.9830 - val_loss: 0.0765 - val_accuracy: 0.9688 - val_binary_crossentropy: 0.0672 - val_auc: 0.9851 - val_auc_1: 0.9974\n",
            "Epoch 73/6000\n",
            "73/73 [==============================] - 0s 4ms/step - loss: 0.1033 - accuracy: 0.9688 - binary_crossentropy: 0.0939 - auc: 0.9458 - auc_1: 0.9861 - val_loss: 0.0735 - val_accuracy: 0.9714 - val_binary_crossentropy: 0.0639 - val_auc: 0.9866 - val_auc_1: 0.9976\n",
            "Epoch 74/6000\n",
            "73/73 [==============================] - 0s 3ms/step - loss: 0.1104 - accuracy: 0.9696 - binary_crossentropy: 0.1010 - auc: 0.9375 - auc_1: 0.9833 - val_loss: 0.0695 - val_accuracy: 0.9688 - val_binary_crossentropy: 0.0603 - val_auc: 0.9860 - val_auc_1: 0.9975\n",
            "Epoch 75/6000\n",
            "73/73 [==============================] - 0s 4ms/step - loss: 0.1049 - accuracy: 0.9644 - binary_crossentropy: 0.0958 - auc: 0.9429 - auc_1: 0.9857 - val_loss: 0.0666 - val_accuracy: 0.9688 - val_binary_crossentropy: 0.0574 - val_auc: 0.9848 - val_auc_1: 0.9973\n",
            "Epoch 76/6000\n",
            "73/73 [==============================] - 0s 4ms/step - loss: 0.1074 - accuracy: 0.9644 - binary_crossentropy: 0.0982 - auc: 0.9418 - auc_1: 0.9857 - val_loss: 0.0661 - val_accuracy: 0.9688 - val_binary_crossentropy: 0.0569 - val_auc: 0.9868 - val_auc_1: 0.9977\n",
            "Epoch 77/6000\n",
            "73/73 [==============================] - 0s 4ms/step - loss: 0.1038 - accuracy: 0.9709 - binary_crossentropy: 0.0946 - auc: 0.9449 - auc_1: 0.9862 - val_loss: 0.0658 - val_accuracy: 0.9714 - val_binary_crossentropy: 0.0565 - val_auc: 0.9862 - val_auc_1: 0.9975\n",
            "Epoch 78/6000\n",
            "73/73 [==============================] - 0s 4ms/step - loss: 0.1003 - accuracy: 0.9722 - binary_crossentropy: 0.0909 - auc: 0.9489 - auc_1: 0.9890 - val_loss: 0.0606 - val_accuracy: 0.9766 - val_binary_crossentropy: 0.0513 - val_auc: 0.9882 - val_auc_1: 0.9979\n",
            "Epoch 79/6000\n",
            "73/73 [==============================] - 0s 3ms/step - loss: 0.0977 - accuracy: 0.9696 - binary_crossentropy: 0.0885 - auc: 0.9521 - auc_1: 0.9888 - val_loss: 0.0601 - val_accuracy: 0.9766 - val_binary_crossentropy: 0.0509 - val_auc: 0.9886 - val_auc_1: 0.9980\n",
            "Epoch 80/6000\n",
            "73/73 [==============================] - 0s 4ms/step - loss: 0.1098 - accuracy: 0.9653 - binary_crossentropy: 0.1005 - auc: 0.9377 - auc_1: 0.9844 - val_loss: 0.0643 - val_accuracy: 0.9688 - val_binary_crossentropy: 0.0550 - val_auc: 0.9860 - val_auc_1: 0.9975\n",
            "Epoch 81/6000\n",
            "73/73 [==============================] - 0s 4ms/step - loss: 0.1086 - accuracy: 0.9653 - binary_crossentropy: 0.0995 - auc: 0.9388 - auc_1: 0.9848 - val_loss: 0.0587 - val_accuracy: 0.9766 - val_binary_crossentropy: 0.0496 - val_auc: 0.9873 - val_auc_1: 0.9977\n",
            "Epoch 82/6000\n",
            "73/73 [==============================] - 0s 3ms/step - loss: 0.0980 - accuracy: 0.9696 - binary_crossentropy: 0.0888 - auc: 0.9499 - auc_1: 0.9869 - val_loss: 0.0634 - val_accuracy: 0.9688 - val_binary_crossentropy: 0.0540 - val_auc: 0.9881 - val_auc_1: 0.9979\n",
            "Epoch 83/6000\n",
            "73/73 [==============================] - 0s 4ms/step - loss: 0.1043 - accuracy: 0.9683 - binary_crossentropy: 0.0949 - auc: 0.9443 - auc_1: 0.9861 - val_loss: 0.0614 - val_accuracy: 0.9766 - val_binary_crossentropy: 0.0522 - val_auc: 0.9885 - val_auc_1: 0.9979\n",
            "Epoch 84/6000\n",
            "73/73 [==============================] - 0s 5ms/step - loss: 0.1055 - accuracy: 0.9666 - binary_crossentropy: 0.0963 - auc: 0.9411 - auc_1: 0.9854 - val_loss: 0.0572 - val_accuracy: 0.9766 - val_binary_crossentropy: 0.0481 - val_auc: 0.9882 - val_auc_1: 0.9979\n",
            "Epoch 85/6000\n",
            "73/73 [==============================] - 0s 4ms/step - loss: 0.1052 - accuracy: 0.9670 - binary_crossentropy: 0.0962 - auc: 0.9432 - auc_1: 0.9856 - val_loss: 0.0569 - val_accuracy: 0.9766 - val_binary_crossentropy: 0.0480 - val_auc: 0.9887 - val_auc_1: 0.9979\n",
            "Epoch 86/6000\n",
            "73/73 [==============================] - 0s 4ms/step - loss: 0.1034 - accuracy: 0.9696 - binary_crossentropy: 0.0947 - auc: 0.9444 - auc_1: 0.9865 - val_loss: 0.0630 - val_accuracy: 0.9740 - val_binary_crossentropy: 0.0540 - val_auc: 0.9883 - val_auc_1: 0.9978\n",
            "Epoch 87/6000\n",
            "73/73 [==============================] - 0s 4ms/step - loss: 0.0983 - accuracy: 0.9696 - binary_crossentropy: 0.0894 - auc: 0.9489 - auc_1: 0.9877 - val_loss: 0.0555 - val_accuracy: 0.9792 - val_binary_crossentropy: 0.0466 - val_auc: 0.9881 - val_auc_1: 0.9978\n",
            "Epoch 88/6000\n",
            "73/73 [==============================] - 0s 4ms/step - loss: 0.0986 - accuracy: 0.9701 - binary_crossentropy: 0.0897 - auc: 0.9484 - auc_1: 0.9867 - val_loss: 0.0557 - val_accuracy: 0.9870 - val_binary_crossentropy: 0.0467 - val_auc: 0.9873 - val_auc_1: 0.9976\n",
            "Epoch 89/6000\n",
            "73/73 [==============================] - 0s 4ms/step - loss: 0.0960 - accuracy: 0.9696 - binary_crossentropy: 0.0870 - auc: 0.9511 - auc_1: 0.9877 - val_loss: 0.0586 - val_accuracy: 0.9766 - val_binary_crossentropy: 0.0497 - val_auc: 0.9876 - val_auc_1: 0.9977\n",
            "Epoch 90/6000\n",
            "73/73 [==============================] - 0s 4ms/step - loss: 0.0961 - accuracy: 0.9692 - binary_crossentropy: 0.0873 - auc: 0.9539 - auc_1: 0.9879 - val_loss: 0.0581 - val_accuracy: 0.9766 - val_binary_crossentropy: 0.0492 - val_auc: 0.9890 - val_auc_1: 0.9980\n",
            "Epoch 91/6000\n",
            "73/73 [==============================] - 0s 4ms/step - loss: 0.0900 - accuracy: 0.9727 - binary_crossentropy: 0.0810 - auc: 0.9597 - auc_1: 0.9899 - val_loss: 0.0515 - val_accuracy: 0.9844 - val_binary_crossentropy: 0.0427 - val_auc: 0.9892 - val_auc_1: 0.9980\n",
            "Epoch 92/6000\n",
            "73/73 [==============================] - 0s 4ms/step - loss: 0.0974 - accuracy: 0.9670 - binary_crossentropy: 0.0886 - auc: 0.9509 - auc_1: 0.9873 - val_loss: 0.0545 - val_accuracy: 0.9818 - val_binary_crossentropy: 0.0457 - val_auc: 0.9892 - val_auc_1: 0.9980\n",
            "Epoch 93/6000\n",
            "73/73 [==============================] - 0s 4ms/step - loss: 0.0842 - accuracy: 0.9727 - binary_crossentropy: 0.0755 - auc: 0.9648 - auc_1: 0.9904 - val_loss: 0.0562 - val_accuracy: 0.9766 - val_binary_crossentropy: 0.0478 - val_auc: 0.9894 - val_auc_1: 0.9980\n",
            "Epoch 94/6000\n",
            "73/73 [==============================] - 0s 3ms/step - loss: 0.1053 - accuracy: 0.9688 - binary_crossentropy: 0.0968 - auc: 0.9400 - auc_1: 0.9855 - val_loss: 0.0525 - val_accuracy: 0.9844 - val_binary_crossentropy: 0.0442 - val_auc: 0.9896 - val_auc_1: 0.9981\n",
            "Epoch 95/6000\n",
            "73/73 [==============================] - 0s 5ms/step - loss: 0.0936 - accuracy: 0.9718 - binary_crossentropy: 0.0853 - auc: 0.9514 - auc_1: 0.9878 - val_loss: 0.0520 - val_accuracy: 0.9844 - val_binary_crossentropy: 0.0436 - val_auc: 0.9902 - val_auc_1: 0.9982\n",
            "Epoch 96/6000\n",
            "73/73 [==============================] - 0s 4ms/step - loss: 0.0975 - accuracy: 0.9675 - binary_crossentropy: 0.0891 - auc: 0.9530 - auc_1: 0.9893 - val_loss: 0.0516 - val_accuracy: 0.9870 - val_binary_crossentropy: 0.0433 - val_auc: 0.9901 - val_auc_1: 0.9981\n",
            "Epoch 97/6000\n",
            "73/73 [==============================] - 0s 3ms/step - loss: 0.0988 - accuracy: 0.9701 - binary_crossentropy: 0.0904 - auc: 0.9446 - auc_1: 0.9860 - val_loss: 0.0492 - val_accuracy: 0.9844 - val_binary_crossentropy: 0.0408 - val_auc: 0.9919 - val_auc_1: 0.9985\n",
            "Epoch 98/6000\n",
            "73/73 [==============================] - 0s 4ms/step - loss: 0.0939 - accuracy: 0.9714 - binary_crossentropy: 0.0854 - auc: 0.9537 - auc_1: 0.9889 - val_loss: 0.0474 - val_accuracy: 0.9896 - val_binary_crossentropy: 0.0390 - val_auc: 0.9919 - val_auc_1: 0.9985\n",
            "Epoch 99/6000\n",
            "73/73 [==============================] - 0s 4ms/step - loss: 0.0920 - accuracy: 0.9714 - binary_crossentropy: 0.0836 - auc: 0.9545 - auc_1: 0.9877 - val_loss: 0.0460 - val_accuracy: 0.9870 - val_binary_crossentropy: 0.0379 - val_auc: 0.9919 - val_auc_1: 0.9985\n",
            "Epoch 100/6000\n",
            "73/73 [==============================] - 0s 4ms/step - loss: 0.0919 - accuracy: 0.9753 - binary_crossentropy: 0.0837 - auc: 0.9517 - auc_1: 0.9873 - val_loss: 0.0434 - val_accuracy: 0.9870 - val_binary_crossentropy: 0.0352 - val_auc: 0.9927 - val_auc_1: 0.9987\n",
            "Epoch 101/6000\n",
            "73/73 [==============================] - 0s 4ms/step - loss: 0.0824 - accuracy: 0.9801 - binary_crossentropy: 0.0740 - auc: 0.9629 - auc_1: 0.9913 - val_loss: 0.0417 - val_accuracy: 0.9896 - val_binary_crossentropy: 0.0332 - val_auc: 0.9944 - val_auc_1: 0.9990\n",
            "Epoch 102/6000\n",
            "73/73 [==============================] - 0s 4ms/step - loss: 0.1038 - accuracy: 0.9683 - binary_crossentropy: 0.0953 - auc: 0.9409 - auc_1: 0.9850 - val_loss: 0.0413 - val_accuracy: 0.9870 - val_binary_crossentropy: 0.0330 - val_auc: 0.9947 - val_auc_1: 0.9990\n",
            "Epoch 103/6000\n",
            "73/73 [==============================] - 0s 4ms/step - loss: 0.0827 - accuracy: 0.9783 - binary_crossentropy: 0.0744 - auc: 0.9601 - auc_1: 0.9898 - val_loss: 0.0396 - val_accuracy: 0.9870 - val_binary_crossentropy: 0.0315 - val_auc: 0.9940 - val_auc_1: 0.9989\n",
            "Epoch 104/6000\n",
            "73/73 [==============================] - 0s 4ms/step - loss: 0.0820 - accuracy: 0.9792 - binary_crossentropy: 0.0737 - auc: 0.9623 - auc_1: 0.9909 - val_loss: 0.0401 - val_accuracy: 0.9870 - val_binary_crossentropy: 0.0319 - val_auc: 0.9953 - val_auc_1: 0.9992\n",
            "Epoch 105/6000\n",
            "73/73 [==============================] - 0s 4ms/step - loss: 0.0894 - accuracy: 0.9722 - binary_crossentropy: 0.0813 - auc: 0.9581 - auc_1: 0.9904 - val_loss: 0.0389 - val_accuracy: 0.9896 - val_binary_crossentropy: 0.0309 - val_auc: 0.9950 - val_auc_1: 0.9991\n",
            "Epoch 106/6000\n",
            "73/73 [==============================] - 0s 4ms/step - loss: 0.0792 - accuracy: 0.9779 - binary_crossentropy: 0.0712 - auc: 0.9677 - auc_1: 0.9926 - val_loss: 0.0406 - val_accuracy: 0.9870 - val_binary_crossentropy: 0.0324 - val_auc: 0.9945 - val_auc_1: 0.9990\n",
            "Epoch 107/6000\n",
            "73/73 [==============================] - 0s 3ms/step - loss: 0.0947 - accuracy: 0.9722 - binary_crossentropy: 0.0867 - auc: 0.9521 - auc_1: 0.9866 - val_loss: 0.0422 - val_accuracy: 0.9870 - val_binary_crossentropy: 0.0343 - val_auc: 0.9945 - val_auc_1: 0.9990\n",
            "Epoch 108/6000\n",
            "73/73 [==============================] - 0s 3ms/step - loss: 0.0916 - accuracy: 0.9718 - binary_crossentropy: 0.0836 - auc: 0.9554 - auc_1: 0.9881 - val_loss: 0.0398 - val_accuracy: 0.9896 - val_binary_crossentropy: 0.0317 - val_auc: 0.9943 - val_auc_1: 0.9990\n",
            "Epoch 109/6000\n",
            "73/73 [==============================] - 0s 4ms/step - loss: 0.0957 - accuracy: 0.9714 - binary_crossentropy: 0.0876 - auc: 0.9555 - auc_1: 0.9899 - val_loss: 0.0394 - val_accuracy: 0.9896 - val_binary_crossentropy: 0.0313 - val_auc: 0.9937 - val_auc_1: 0.9988\n",
            "Epoch 110/6000\n",
            "73/73 [==============================] - 0s 3ms/step - loss: 0.0938 - accuracy: 0.9714 - binary_crossentropy: 0.0857 - auc: 0.9542 - auc_1: 0.9888 - val_loss: 0.0387 - val_accuracy: 0.9896 - val_binary_crossentropy: 0.0306 - val_auc: 0.9947 - val_auc_1: 0.9990\n",
            "Epoch 111/6000\n",
            "73/73 [==============================] - 0s 3ms/step - loss: 0.0901 - accuracy: 0.9740 - binary_crossentropy: 0.0820 - auc: 0.9529 - auc_1: 0.9875 - val_loss: 0.0382 - val_accuracy: 0.9896 - val_binary_crossentropy: 0.0303 - val_auc: 0.9941 - val_auc_1: 0.9989\n",
            "Epoch 112/6000\n",
            "73/73 [==============================] - 0s 4ms/step - loss: 0.0984 - accuracy: 0.9679 - binary_crossentropy: 0.0907 - auc: 0.9499 - auc_1: 0.9865 - val_loss: 0.0401 - val_accuracy: 0.9896 - val_binary_crossentropy: 0.0322 - val_auc: 0.9940 - val_auc_1: 0.9989\n",
            "Epoch 113/6000\n",
            "73/73 [==============================] - 0s 4ms/step - loss: 0.0901 - accuracy: 0.9740 - binary_crossentropy: 0.0822 - auc: 0.9549 - auc_1: 0.9893 - val_loss: 0.0402 - val_accuracy: 0.9896 - val_binary_crossentropy: 0.0322 - val_auc: 0.9936 - val_auc_1: 0.9988\n",
            "Epoch 114/6000\n",
            "73/73 [==============================] - 0s 4ms/step - loss: 0.0898 - accuracy: 0.9748 - binary_crossentropy: 0.0818 - auc: 0.9535 - auc_1: 0.9888 - val_loss: 0.0413 - val_accuracy: 0.9870 - val_binary_crossentropy: 0.0332 - val_auc: 0.9945 - val_auc_1: 0.9990\n",
            "Epoch 115/6000\n",
            "73/73 [==============================] - 0s 4ms/step - loss: 0.0927 - accuracy: 0.9735 - binary_crossentropy: 0.0846 - auc: 0.9546 - auc_1: 0.9879 - val_loss: 0.0376 - val_accuracy: 0.9896 - val_binary_crossentropy: 0.0300 - val_auc: 0.9946 - val_auc_1: 0.9990\n",
            "Epoch 116/6000\n",
            "73/73 [==============================] - 0s 4ms/step - loss: 0.0896 - accuracy: 0.9735 - binary_crossentropy: 0.0820 - auc: 0.9541 - auc_1: 0.9884 - val_loss: 0.0351 - val_accuracy: 0.9896 - val_binary_crossentropy: 0.0272 - val_auc: 0.9971 - val_auc_1: 0.9995\n",
            "Epoch 117/6000\n",
            "73/73 [==============================] - 0s 3ms/step - loss: 0.0885 - accuracy: 0.9731 - binary_crossentropy: 0.0808 - auc: 0.9546 - auc_1: 0.9884 - val_loss: 0.0348 - val_accuracy: 0.9896 - val_binary_crossentropy: 0.0271 - val_auc: 0.9970 - val_auc_1: 0.9995\n",
            "Epoch 118/6000\n",
            "73/73 [==============================] - 0s 4ms/step - loss: 0.0943 - accuracy: 0.9714 - binary_crossentropy: 0.0865 - auc: 0.9548 - auc_1: 0.9885 - val_loss: 0.0374 - val_accuracy: 0.9896 - val_binary_crossentropy: 0.0295 - val_auc: 0.9957 - val_auc_1: 0.9992\n",
            "Epoch 119/6000\n",
            "73/73 [==============================] - 0s 4ms/step - loss: 0.0873 - accuracy: 0.9740 - binary_crossentropy: 0.0794 - auc: 0.9544 - auc_1: 0.9876 - val_loss: 0.0365 - val_accuracy: 0.9896 - val_binary_crossentropy: 0.0286 - val_auc: 0.9948 - val_auc_1: 0.9990\n",
            "Epoch 120/6000\n",
            "73/73 [==============================] - 0s 4ms/step - loss: 0.0899 - accuracy: 0.9740 - binary_crossentropy: 0.0823 - auc: 0.9543 - auc_1: 0.9886 - val_loss: 0.0382 - val_accuracy: 0.9870 - val_binary_crossentropy: 0.0305 - val_auc: 0.9951 - val_auc_1: 0.9991\n",
            "Epoch 121/6000\n",
            "73/73 [==============================] - 0s 4ms/step - loss: 0.0834 - accuracy: 0.9748 - binary_crossentropy: 0.0756 - auc: 0.9616 - auc_1: 0.9908 - val_loss: 0.0358 - val_accuracy: 0.9896 - val_binary_crossentropy: 0.0283 - val_auc: 0.9946 - val_auc_1: 0.9990\n",
            "Epoch 122/6000\n",
            "73/73 [==============================] - 0s 3ms/step - loss: 0.0896 - accuracy: 0.9740 - binary_crossentropy: 0.0820 - auc: 0.9512 - auc_1: 0.9884 - val_loss: 0.0433 - val_accuracy: 0.9844 - val_binary_crossentropy: 0.0357 - val_auc: 0.9955 - val_auc_1: 0.9992\n",
            "Epoch 123/6000\n",
            "73/73 [==============================] - 0s 4ms/step - loss: 0.0786 - accuracy: 0.9770 - binary_crossentropy: 0.0710 - auc: 0.9600 - auc_1: 0.9903 - val_loss: 0.0367 - val_accuracy: 0.9896 - val_binary_crossentropy: 0.0291 - val_auc: 0.9954 - val_auc_1: 0.9992\n",
            "Epoch 124/6000\n",
            "73/73 [==============================] - 0s 3ms/step - loss: 0.0850 - accuracy: 0.9735 - binary_crossentropy: 0.0777 - auc: 0.9602 - auc_1: 0.9905 - val_loss: 0.0386 - val_accuracy: 0.9870 - val_binary_crossentropy: 0.0313 - val_auc: 0.9945 - val_auc_1: 0.9990\n",
            "Epoch 125/6000\n",
            "73/73 [==============================] - 0s 3ms/step - loss: 0.0951 - accuracy: 0.9731 - binary_crossentropy: 0.0878 - auc: 0.9451 - auc_1: 0.9870 - val_loss: 0.0390 - val_accuracy: 0.9870 - val_binary_crossentropy: 0.0316 - val_auc: 0.9953 - val_auc_1: 0.9992\n",
            "Epoch 126/6000\n",
            "73/73 [==============================] - 0s 3ms/step - loss: 0.0906 - accuracy: 0.9766 - binary_crossentropy: 0.0832 - auc: 0.9528 - auc_1: 0.9893 - val_loss: 0.0363 - val_accuracy: 0.9896 - val_binary_crossentropy: 0.0289 - val_auc: 0.9941 - val_auc_1: 0.9989\n",
            "Epoch 127/6000\n",
            "73/73 [==============================] - 0s 4ms/step - loss: 0.0899 - accuracy: 0.9744 - binary_crossentropy: 0.0825 - auc: 0.9538 - auc_1: 0.9878 - val_loss: 0.0358 - val_accuracy: 0.9870 - val_binary_crossentropy: 0.0284 - val_auc: 0.9956 - val_auc_1: 0.9992\n",
            "Epoch 128/6000\n",
            "73/73 [==============================] - 0s 4ms/step - loss: 0.0970 - accuracy: 0.9701 - binary_crossentropy: 0.0894 - auc: 0.9489 - auc_1: 0.9878 - val_loss: 0.0337 - val_accuracy: 0.9922 - val_binary_crossentropy: 0.0261 - val_auc: 0.9965 - val_auc_1: 0.9994\n",
            "Epoch 129/6000\n",
            "73/73 [==============================] - 0s 4ms/step - loss: 0.0904 - accuracy: 0.9714 - binary_crossentropy: 0.0828 - auc: 0.9560 - auc_1: 0.9887 - val_loss: 0.0330 - val_accuracy: 0.9896 - val_binary_crossentropy: 0.0258 - val_auc: 0.9968 - val_auc_1: 0.9994\n",
            "Epoch 130/6000\n",
            "73/73 [==============================] - 0s 3ms/step - loss: 0.0851 - accuracy: 0.9753 - binary_crossentropy: 0.0780 - auc: 0.9595 - auc_1: 0.9899 - val_loss: 0.0307 - val_accuracy: 0.9922 - val_binary_crossentropy: 0.0236 - val_auc: 0.9980 - val_auc_1: 0.9997\n",
            "Epoch 131/6000\n",
            "73/73 [==============================] - 0s 4ms/step - loss: 0.0861 - accuracy: 0.9744 - binary_crossentropy: 0.0789 - auc: 0.9599 - auc_1: 0.9901 - val_loss: 0.0317 - val_accuracy: 0.9896 - val_binary_crossentropy: 0.0245 - val_auc: 0.9977 - val_auc_1: 0.9996\n",
            "Epoch 132/6000\n",
            "73/73 [==============================] - 0s 4ms/step - loss: 0.0949 - accuracy: 0.9688 - binary_crossentropy: 0.0879 - auc: 0.9529 - auc_1: 0.9871 - val_loss: 0.0368 - val_accuracy: 0.9896 - val_binary_crossentropy: 0.0295 - val_auc: 0.9944 - val_auc_1: 0.9990\n",
            "Epoch 133/6000\n",
            "73/73 [==============================] - 0s 4ms/step - loss: 0.0756 - accuracy: 0.9775 - binary_crossentropy: 0.0682 - auc: 0.9691 - auc_1: 0.9918 - val_loss: 0.0334 - val_accuracy: 0.9896 - val_binary_crossentropy: 0.0262 - val_auc: 0.9962 - val_auc_1: 0.9993\n",
            "Epoch 134/6000\n",
            "73/73 [==============================] - 0s 4ms/step - loss: 0.0844 - accuracy: 0.9731 - binary_crossentropy: 0.0772 - auc: 0.9596 - auc_1: 0.9890 - val_loss: 0.0338 - val_accuracy: 0.9896 - val_binary_crossentropy: 0.0268 - val_auc: 0.9964 - val_auc_1: 0.9994\n",
            "Epoch 135/6000\n",
            "73/73 [==============================] - 0s 4ms/step - loss: 0.0830 - accuracy: 0.9757 - binary_crossentropy: 0.0755 - auc: 0.9640 - auc_1: 0.9918 - val_loss: 0.0321 - val_accuracy: 0.9896 - val_binary_crossentropy: 0.0245 - val_auc: 0.9974 - val_auc_1: 0.9996\n",
            "Epoch 136/6000\n",
            "73/73 [==============================] - 0s 5ms/step - loss: 0.0781 - accuracy: 0.9792 - binary_crossentropy: 0.0707 - auc: 0.9654 - auc_1: 0.9920 - val_loss: 0.0324 - val_accuracy: 0.9922 - val_binary_crossentropy: 0.0253 - val_auc: 0.9969 - val_auc_1: 0.9995\n",
            "Epoch 137/6000\n",
            "73/73 [==============================] - 0s 3ms/step - loss: 0.0811 - accuracy: 0.9748 - binary_crossentropy: 0.0741 - auc: 0.9617 - auc_1: 0.9907 - val_loss: 0.0369 - val_accuracy: 0.9870 - val_binary_crossentropy: 0.0298 - val_auc: 0.9975 - val_auc_1: 0.9996\n",
            "Epoch 138/6000\n",
            "73/73 [==============================] - 0s 4ms/step - loss: 0.0903 - accuracy: 0.9722 - binary_crossentropy: 0.0831 - auc: 0.9516 - auc_1: 0.9879 - val_loss: 0.0308 - val_accuracy: 0.9922 - val_binary_crossentropy: 0.0238 - val_auc: 0.9968 - val_auc_1: 0.9994\n",
            "Epoch 139/6000\n",
            "73/73 [==============================] - 0s 4ms/step - loss: 0.0849 - accuracy: 0.9757 - binary_crossentropy: 0.0777 - auc: 0.9574 - auc_1: 0.9895 - val_loss: 0.0304 - val_accuracy: 0.9922 - val_binary_crossentropy: 0.0231 - val_auc: 0.9976 - val_auc_1: 0.9996\n",
            "Epoch 140/6000\n",
            "73/73 [==============================] - 0s 4ms/step - loss: 0.0845 - accuracy: 0.9744 - binary_crossentropy: 0.0774 - auc: 0.9601 - auc_1: 0.9888 - val_loss: 0.0311 - val_accuracy: 0.9896 - val_binary_crossentropy: 0.0242 - val_auc: 0.9971 - val_auc_1: 0.9995\n",
            "Epoch 141/6000\n",
            "73/73 [==============================] - 0s 4ms/step - loss: 0.0817 - accuracy: 0.9766 - binary_crossentropy: 0.0748 - auc: 0.9612 - auc_1: 0.9892 - val_loss: 0.0323 - val_accuracy: 0.9896 - val_binary_crossentropy: 0.0254 - val_auc: 0.9965 - val_auc_1: 0.9994\n",
            "Epoch 142/6000\n",
            "73/73 [==============================] - 0s 5ms/step - loss: 0.0831 - accuracy: 0.9761 - binary_crossentropy: 0.0761 - auc: 0.9610 - auc_1: 0.9907 - val_loss: 0.0315 - val_accuracy: 0.9896 - val_binary_crossentropy: 0.0245 - val_auc: 0.9961 - val_auc_1: 0.9993\n",
            "Epoch 143/6000\n",
            "73/73 [==============================] - 0s 4ms/step - loss: 0.0968 - accuracy: 0.9705 - binary_crossentropy: 0.0899 - auc: 0.9465 - auc_1: 0.9862 - val_loss: 0.0351 - val_accuracy: 0.9870 - val_binary_crossentropy: 0.0279 - val_auc: 0.9965 - val_auc_1: 0.9994\n",
            "Epoch 144/6000\n",
            "73/73 [==============================] - 0s 4ms/step - loss: 0.0900 - accuracy: 0.9744 - binary_crossentropy: 0.0829 - auc: 0.9515 - auc_1: 0.9885 - val_loss: 0.0333 - val_accuracy: 0.9896 - val_binary_crossentropy: 0.0265 - val_auc: 0.9955 - val_auc_1: 0.9992\n",
            "Epoch 145/6000\n",
            "73/73 [==============================] - 0s 5ms/step - loss: 0.0787 - accuracy: 0.9775 - binary_crossentropy: 0.0719 - auc: 0.9614 - auc_1: 0.9901 - val_loss: 0.0302 - val_accuracy: 0.9896 - val_binary_crossentropy: 0.0234 - val_auc: 0.9965 - val_auc_1: 0.9994\n",
            "Epoch 146/6000\n",
            "73/73 [==============================] - 0s 4ms/step - loss: 0.0842 - accuracy: 0.9731 - binary_crossentropy: 0.0774 - auc: 0.9620 - auc_1: 0.9908 - val_loss: 0.0305 - val_accuracy: 0.9896 - val_binary_crossentropy: 0.0235 - val_auc: 0.9970 - val_auc_1: 0.9995\n",
            "Epoch 147/6000\n",
            "73/73 [==============================] - 0s 4ms/step - loss: 0.0896 - accuracy: 0.9744 - binary_crossentropy: 0.0827 - auc: 0.9533 - auc_1: 0.9885 - val_loss: 0.0309 - val_accuracy: 0.9922 - val_binary_crossentropy: 0.0240 - val_auc: 0.9963 - val_auc_1: 0.9994\n",
            "Epoch 148/6000\n",
            "73/73 [==============================] - 0s 4ms/step - loss: 0.0897 - accuracy: 0.9744 - binary_crossentropy: 0.0829 - auc: 0.9497 - auc_1: 0.9869 - val_loss: 0.0316 - val_accuracy: 0.9922 - val_binary_crossentropy: 0.0250 - val_auc: 0.9961 - val_auc_1: 0.9993\n",
            "Epoch 149/6000\n",
            "73/73 [==============================] - 0s 4ms/step - loss: 0.0849 - accuracy: 0.9753 - binary_crossentropy: 0.0781 - auc: 0.9564 - auc_1: 0.9890 - val_loss: 0.0336 - val_accuracy: 0.9896 - val_binary_crossentropy: 0.0269 - val_auc: 0.9961 - val_auc_1: 0.9993\n",
            "Epoch 150/6000\n",
            "73/73 [==============================] - 0s 4ms/step - loss: 0.0912 - accuracy: 0.9727 - binary_crossentropy: 0.0842 - auc: 0.9498 - auc_1: 0.9873 - val_loss: 0.0420 - val_accuracy: 0.9896 - val_binary_crossentropy: 0.0352 - val_auc: 0.9956 - val_auc_1: 0.9992\n",
            "Epoch 151/6000\n",
            "73/73 [==============================] - 0s 4ms/step - loss: 0.0874 - accuracy: 0.9735 - binary_crossentropy: 0.0807 - auc: 0.9509 - auc_1: 0.9872 - val_loss: 0.0335 - val_accuracy: 0.9922 - val_binary_crossentropy: 0.0267 - val_auc: 0.9955 - val_auc_1: 0.9992\n",
            "Epoch 152/6000\n",
            "73/73 [==============================] - 0s 4ms/step - loss: 0.0859 - accuracy: 0.9757 - binary_crossentropy: 0.0787 - auc: 0.9536 - auc_1: 0.9878 - val_loss: 0.0332 - val_accuracy: 0.9922 - val_binary_crossentropy: 0.0261 - val_auc: 0.9959 - val_auc_1: 0.9993\n",
            "Epoch 153/6000\n",
            "73/73 [==============================] - 0s 4ms/step - loss: 0.0797 - accuracy: 0.9748 - binary_crossentropy: 0.0730 - auc: 0.9647 - auc_1: 0.9904 - val_loss: 0.0320 - val_accuracy: 0.9922 - val_binary_crossentropy: 0.0254 - val_auc: 0.9965 - val_auc_1: 0.9994\n",
            "Epoch 154/6000\n",
            "73/73 [==============================] - 0s 4ms/step - loss: 0.0809 - accuracy: 0.9766 - binary_crossentropy: 0.0743 - auc: 0.9607 - auc_1: 0.9890 - val_loss: 0.0321 - val_accuracy: 0.9922 - val_binary_crossentropy: 0.0255 - val_auc: 0.9965 - val_auc_1: 0.9994\n",
            "Epoch 155/6000\n",
            "73/73 [==============================] - 0s 4ms/step - loss: 0.0896 - accuracy: 0.9722 - binary_crossentropy: 0.0831 - auc: 0.9520 - auc_1: 0.9882 - val_loss: 0.0314 - val_accuracy: 0.9922 - val_binary_crossentropy: 0.0247 - val_auc: 0.9963 - val_auc_1: 0.9994\n",
            "Epoch 156/6000\n",
            "73/73 [==============================] - 0s 4ms/step - loss: 0.0784 - accuracy: 0.9788 - binary_crossentropy: 0.0716 - auc: 0.9626 - auc_1: 0.9905 - val_loss: 0.0317 - val_accuracy: 0.9896 - val_binary_crossentropy: 0.0249 - val_auc: 0.9963 - val_auc_1: 0.9994\n",
            "Epoch 157/6000\n",
            "73/73 [==============================] - 0s 4ms/step - loss: 0.0787 - accuracy: 0.9753 - binary_crossentropy: 0.0718 - auc: 0.9662 - auc_1: 0.9908 - val_loss: 0.0289 - val_accuracy: 0.9922 - val_binary_crossentropy: 0.0220 - val_auc: 0.9969 - val_auc_1: 0.9995\n",
            "Epoch 158/6000\n",
            "73/73 [==============================] - 0s 5ms/step - loss: 0.0819 - accuracy: 0.9788 - binary_crossentropy: 0.0751 - auc: 0.9562 - auc_1: 0.9885 - val_loss: 0.0281 - val_accuracy: 0.9922 - val_binary_crossentropy: 0.0213 - val_auc: 0.9980 - val_auc_1: 0.9997\n",
            "Epoch 159/6000\n",
            "73/73 [==============================] - 0s 4ms/step - loss: 0.0874 - accuracy: 0.9735 - binary_crossentropy: 0.0805 - auc: 0.9537 - auc_1: 0.9884 - val_loss: 0.0287 - val_accuracy: 0.9922 - val_binary_crossentropy: 0.0219 - val_auc: 0.9983 - val_auc_1: 0.9997\n",
            "Epoch 160/6000\n",
            "73/73 [==============================] - 0s 4ms/step - loss: 0.0821 - accuracy: 0.9753 - binary_crossentropy: 0.0753 - auc: 0.9617 - auc_1: 0.9901 - val_loss: 0.0297 - val_accuracy: 0.9922 - val_binary_crossentropy: 0.0230 - val_auc: 0.9965 - val_auc_1: 0.9994\n",
            "Epoch 161/6000\n",
            "73/73 [==============================] - 0s 3ms/step - loss: 0.0762 - accuracy: 0.9775 - binary_crossentropy: 0.0695 - auc: 0.9662 - auc_1: 0.9907 - val_loss: 0.0287 - val_accuracy: 0.9922 - val_binary_crossentropy: 0.0218 - val_auc: 0.9977 - val_auc_1: 0.9996\n",
            "Epoch 162/6000\n",
            "73/73 [==============================] - 0s 4ms/step - loss: 0.0713 - accuracy: 0.9805 - binary_crossentropy: 0.0645 - auc: 0.9665 - auc_1: 0.9917 - val_loss: 0.0270 - val_accuracy: 0.9922 - val_binary_crossentropy: 0.0204 - val_auc: 0.9985 - val_auc_1: 0.9997\n",
            "Epoch 163/6000\n",
            "73/73 [==============================] - 0s 3ms/step - loss: 0.0820 - accuracy: 0.9766 - binary_crossentropy: 0.0754 - auc: 0.9560 - auc_1: 0.9879 - val_loss: 0.0276 - val_accuracy: 0.9922 - val_binary_crossentropy: 0.0209 - val_auc: 0.9985 - val_auc_1: 0.9997\n",
            "Epoch 164/6000\n",
            "73/73 [==============================] - 0s 4ms/step - loss: 0.0789 - accuracy: 0.9775 - binary_crossentropy: 0.0722 - auc: 0.9611 - auc_1: 0.9903 - val_loss: 0.0251 - val_accuracy: 0.9948 - val_binary_crossentropy: 0.0185 - val_auc: 0.9993 - val_auc_1: 0.9999\n",
            "Epoch 165/6000\n",
            "73/73 [==============================] - 0s 4ms/step - loss: 0.0827 - accuracy: 0.9753 - binary_crossentropy: 0.0761 - auc: 0.9593 - auc_1: 0.9897 - val_loss: 0.0265 - val_accuracy: 0.9948 - val_binary_crossentropy: 0.0199 - val_auc: 0.9987 - val_auc_1: 0.9998\n",
            "Epoch 166/6000\n",
            "73/73 [==============================] - 0s 4ms/step - loss: 0.0756 - accuracy: 0.9783 - binary_crossentropy: 0.0690 - auc: 0.9671 - auc_1: 0.9922 - val_loss: 0.0305 - val_accuracy: 0.9922 - val_binary_crossentropy: 0.0240 - val_auc: 0.9965 - val_auc_1: 0.9994\n",
            "Epoch 167/6000\n",
            "73/73 [==============================] - 0s 4ms/step - loss: 0.0859 - accuracy: 0.9731 - binary_crossentropy: 0.0795 - auc: 0.9559 - auc_1: 0.9893 - val_loss: 0.0332 - val_accuracy: 0.9896 - val_binary_crossentropy: 0.0269 - val_auc: 0.9961 - val_auc_1: 0.9993\n",
            "Epoch 168/6000\n",
            "73/73 [==============================] - 0s 4ms/step - loss: 0.0721 - accuracy: 0.9788 - binary_crossentropy: 0.0658 - auc: 0.9710 - auc_1: 0.9923 - val_loss: 0.0305 - val_accuracy: 0.9922 - val_binary_crossentropy: 0.0242 - val_auc: 0.9965 - val_auc_1: 0.9994\n",
            "Epoch 169/6000\n",
            "73/73 [==============================] - 0s 5ms/step - loss: 0.0816 - accuracy: 0.9753 - binary_crossentropy: 0.0754 - auc: 0.9587 - auc_1: 0.9892 - val_loss: 0.0362 - val_accuracy: 0.9870 - val_binary_crossentropy: 0.0298 - val_auc: 0.9965 - val_auc_1: 0.9994\n",
            "Epoch 170/6000\n",
            "73/73 [==============================] - 0s 5ms/step - loss: 0.0812 - accuracy: 0.9775 - binary_crossentropy: 0.0745 - auc: 0.9620 - auc_1: 0.9909 - val_loss: 0.0317 - val_accuracy: 0.9922 - val_binary_crossentropy: 0.0250 - val_auc: 0.9961 - val_auc_1: 0.9993\n",
            "Epoch 171/6000\n",
            "73/73 [==============================] - 0s 5ms/step - loss: 0.0760 - accuracy: 0.9792 - binary_crossentropy: 0.0692 - auc: 0.9615 - auc_1: 0.9901 - val_loss: 0.0301 - val_accuracy: 0.9896 - val_binary_crossentropy: 0.0234 - val_auc: 0.9961 - val_auc_1: 0.9993\n",
            "Epoch 172/6000\n",
            "73/73 [==============================] - 0s 4ms/step - loss: 0.0830 - accuracy: 0.9761 - binary_crossentropy: 0.0763 - auc: 0.9556 - auc_1: 0.9885 - val_loss: 0.0294 - val_accuracy: 0.9922 - val_binary_crossentropy: 0.0228 - val_auc: 0.9965 - val_auc_1: 0.9994\n",
            "Epoch 173/6000\n",
            "73/73 [==============================] - 0s 3ms/step - loss: 0.0810 - accuracy: 0.9735 - binary_crossentropy: 0.0743 - auc: 0.9617 - auc_1: 0.9909 - val_loss: 0.0283 - val_accuracy: 0.9922 - val_binary_crossentropy: 0.0216 - val_auc: 0.9972 - val_auc_1: 0.9995\n",
            "Epoch 174/6000\n",
            "73/73 [==============================] - 0s 5ms/step - loss: 0.0772 - accuracy: 0.9766 - binary_crossentropy: 0.0704 - auc: 0.9664 - auc_1: 0.9925 - val_loss: 0.0291 - val_accuracy: 0.9922 - val_binary_crossentropy: 0.0224 - val_auc: 0.9965 - val_auc_1: 0.9994\n",
            "Epoch 175/6000\n",
            "73/73 [==============================] - 0s 4ms/step - loss: 0.0737 - accuracy: 0.9796 - binary_crossentropy: 0.0670 - auc: 0.9675 - auc_1: 0.9923 - val_loss: 0.0285 - val_accuracy: 0.9896 - val_binary_crossentropy: 0.0219 - val_auc: 0.9974 - val_auc_1: 0.9996\n",
            "Epoch 176/6000\n",
            "73/73 [==============================] - 0s 4ms/step - loss: 0.0777 - accuracy: 0.9796 - binary_crossentropy: 0.0709 - auc: 0.9650 - auc_1: 0.9912 - val_loss: 0.0291 - val_accuracy: 0.9896 - val_binary_crossentropy: 0.0225 - val_auc: 0.9961 - val_auc_1: 0.9993\n",
            "Epoch 177/6000\n",
            "73/73 [==============================] - 0s 4ms/step - loss: 0.0707 - accuracy: 0.9796 - binary_crossentropy: 0.0641 - auc: 0.9688 - auc_1: 0.9909 - val_loss: 0.0283 - val_accuracy: 0.9922 - val_binary_crossentropy: 0.0217 - val_auc: 0.9965 - val_auc_1: 0.9994\n",
            "Epoch 178/6000\n",
            "73/73 [==============================] - 0s 5ms/step - loss: 0.0794 - accuracy: 0.9779 - binary_crossentropy: 0.0727 - auc: 0.9607 - auc_1: 0.9900 - val_loss: 0.0300 - val_accuracy: 0.9870 - val_binary_crossentropy: 0.0232 - val_auc: 0.9961 - val_auc_1: 0.9993\n",
            "Epoch 179/6000\n",
            "73/73 [==============================] - 0s 4ms/step - loss: 0.0955 - accuracy: 0.9718 - binary_crossentropy: 0.0887 - auc: 0.9437 - auc_1: 0.9850 - val_loss: 0.0294 - val_accuracy: 0.9922 - val_binary_crossentropy: 0.0225 - val_auc: 0.9969 - val_auc_1: 0.9995\n",
            "Epoch 180/6000\n",
            "73/73 [==============================] - 0s 4ms/step - loss: 0.0802 - accuracy: 0.9766 - binary_crossentropy: 0.0735 - auc: 0.9617 - auc_1: 0.9897 - val_loss: 0.0267 - val_accuracy: 0.9922 - val_binary_crossentropy: 0.0201 - val_auc: 0.9987 - val_auc_1: 0.9998\n",
            "Epoch 181/6000\n",
            "73/73 [==============================] - 0s 4ms/step - loss: 0.0824 - accuracy: 0.9748 - binary_crossentropy: 0.0757 - auc: 0.9588 - auc_1: 0.9897 - val_loss: 0.0263 - val_accuracy: 0.9948 - val_binary_crossentropy: 0.0198 - val_auc: 0.9987 - val_auc_1: 0.9998\n",
            "Epoch 182/6000\n",
            "73/73 [==============================] - 0s 4ms/step - loss: 0.0898 - accuracy: 0.9753 - binary_crossentropy: 0.0834 - auc: 0.9516 - auc_1: 0.9874 - val_loss: 0.0285 - val_accuracy: 0.9922 - val_binary_crossentropy: 0.0221 - val_auc: 0.9975 - val_auc_1: 0.9996\n",
            "Epoch 183/6000\n",
            "73/73 [==============================] - 0s 4ms/step - loss: 0.0702 - accuracy: 0.9801 - binary_crossentropy: 0.0638 - auc: 0.9683 - auc_1: 0.9921 - val_loss: 0.0260 - val_accuracy: 0.9922 - val_binary_crossentropy: 0.0195 - val_auc: 0.9987 - val_auc_1: 0.9998\n",
            "Epoch 184/6000\n",
            "73/73 [==============================] - 0s 4ms/step - loss: 0.0657 - accuracy: 0.9818 - binary_crossentropy: 0.0591 - auc: 0.9764 - auc_1: 0.9937 - val_loss: 0.0241 - val_accuracy: 0.9922 - val_binary_crossentropy: 0.0175 - val_auc: 0.9987 - val_auc_1: 0.9998\n",
            "Epoch 185/6000\n",
            "73/73 [==============================] - 0s 4ms/step - loss: 0.0771 - accuracy: 0.9748 - binary_crossentropy: 0.0704 - auc: 0.9634 - auc_1: 0.9912 - val_loss: 0.0247 - val_accuracy: 0.9922 - val_binary_crossentropy: 0.0182 - val_auc: 0.9987 - val_auc_1: 0.9998\n",
            "Epoch 186/6000\n",
            "73/73 [==============================] - 0s 4ms/step - loss: 0.0756 - accuracy: 0.9775 - binary_crossentropy: 0.0692 - auc: 0.9671 - auc_1: 0.9908 - val_loss: 0.0286 - val_accuracy: 0.9948 - val_binary_crossentropy: 0.0220 - val_auc: 0.9993 - val_auc_1: 0.9999\n",
            "Epoch 187/6000\n",
            "73/73 [==============================] - 0s 4ms/step - loss: 0.0807 - accuracy: 0.9779 - binary_crossentropy: 0.0743 - auc: 0.9576 - auc_1: 0.9891 - val_loss: 0.0260 - val_accuracy: 0.9922 - val_binary_crossentropy: 0.0198 - val_auc: 0.9983 - val_auc_1: 0.9997\n",
            "Epoch 188/6000\n",
            "73/73 [==============================] - 0s 4ms/step - loss: 0.0797 - accuracy: 0.9761 - binary_crossentropy: 0.0733 - auc: 0.9612 - auc_1: 0.9892 - val_loss: 0.0288 - val_accuracy: 0.9922 - val_binary_crossentropy: 0.0225 - val_auc: 0.9978 - val_auc_1: 0.9996\n",
            "Epoch 189/6000\n",
            "73/73 [==============================] - 0s 4ms/step - loss: 0.0806 - accuracy: 0.9761 - binary_crossentropy: 0.0741 - auc: 0.9644 - auc_1: 0.9910 - val_loss: 0.0283 - val_accuracy: 0.9922 - val_binary_crossentropy: 0.0218 - val_auc: 0.9967 - val_auc_1: 0.9994\n",
            "Epoch 190/6000\n",
            "73/73 [==============================] - 0s 5ms/step - loss: 0.0863 - accuracy: 0.9744 - binary_crossentropy: 0.0799 - auc: 0.9503 - auc_1: 0.9872 - val_loss: 0.0285 - val_accuracy: 0.9922 - val_binary_crossentropy: 0.0221 - val_auc: 0.9967 - val_auc_1: 0.9994\n",
            "Epoch 191/6000\n",
            "73/73 [==============================] - 0s 4ms/step - loss: 0.0818 - accuracy: 0.9748 - binary_crossentropy: 0.0753 - auc: 0.9570 - auc_1: 0.9892 - val_loss: 0.0263 - val_accuracy: 0.9896 - val_binary_crossentropy: 0.0195 - val_auc: 0.9983 - val_auc_1: 0.9997\n",
            "Epoch 192/6000\n",
            "73/73 [==============================] - 0s 4ms/step - loss: 0.0863 - accuracy: 0.9735 - binary_crossentropy: 0.0800 - auc: 0.9549 - auc_1: 0.9891 - val_loss: 0.0302 - val_accuracy: 0.9896 - val_binary_crossentropy: 0.0241 - val_auc: 0.9961 - val_auc_1: 0.9993\n",
            "Epoch 193/6000\n",
            "73/73 [==============================] - 0s 4ms/step - loss: 0.0703 - accuracy: 0.9809 - binary_crossentropy: 0.0640 - auc: 0.9701 - auc_1: 0.9914 - val_loss: 0.0289 - val_accuracy: 0.9922 - val_binary_crossentropy: 0.0226 - val_auc: 0.9974 - val_auc_1: 0.9996\n",
            "Epoch 194/6000\n",
            "73/73 [==============================] - 0s 4ms/step - loss: 0.0758 - accuracy: 0.9783 - binary_crossentropy: 0.0695 - auc: 0.9645 - auc_1: 0.9915 - val_loss: 0.0267 - val_accuracy: 0.9922 - val_binary_crossentropy: 0.0203 - val_auc: 0.9978 - val_auc_1: 0.9996\n",
            "Epoch 195/6000\n",
            "73/73 [==============================] - 0s 4ms/step - loss: 0.0780 - accuracy: 0.9775 - binary_crossentropy: 0.0715 - auc: 0.9634 - auc_1: 0.9908 - val_loss: 0.0269 - val_accuracy: 0.9922 - val_binary_crossentropy: 0.0207 - val_auc: 0.9970 - val_auc_1: 0.9995\n",
            "Epoch 196/6000\n",
            "73/73 [==============================] - 0s 4ms/step - loss: 0.0838 - accuracy: 0.9753 - binary_crossentropy: 0.0777 - auc: 0.9536 - auc_1: 0.9881 - val_loss: 0.0269 - val_accuracy: 0.9922 - val_binary_crossentropy: 0.0207 - val_auc: 0.9970 - val_auc_1: 0.9995\n",
            "Epoch 197/6000\n",
            "73/73 [==============================] - 0s 4ms/step - loss: 0.0749 - accuracy: 0.9766 - binary_crossentropy: 0.0688 - auc: 0.9680 - auc_1: 0.9916 - val_loss: 0.0267 - val_accuracy: 0.9922 - val_binary_crossentropy: 0.0206 - val_auc: 0.9975 - val_auc_1: 0.9996\n",
            "Epoch 198/6000\n",
            "73/73 [==============================] - 0s 4ms/step - loss: 0.0773 - accuracy: 0.9792 - binary_crossentropy: 0.0712 - auc: 0.9644 - auc_1: 0.9916 - val_loss: 0.0315 - val_accuracy: 0.9922 - val_binary_crossentropy: 0.0255 - val_auc: 0.9963 - val_auc_1: 0.9994\n",
            "Epoch 199/6000\n",
            "73/73 [==============================] - 0s 4ms/step - loss: 0.0752 - accuracy: 0.9766 - binary_crossentropy: 0.0692 - auc: 0.9660 - auc_1: 0.9915 - val_loss: 0.0262 - val_accuracy: 0.9922 - val_binary_crossentropy: 0.0201 - val_auc: 0.9978 - val_auc_1: 0.9996\n",
            "Epoch 200/6000\n",
            "73/73 [==============================] - 0s 4ms/step - loss: 0.0798 - accuracy: 0.9740 - binary_crossentropy: 0.0734 - auc: 0.9652 - auc_1: 0.9907 - val_loss: 0.0255 - val_accuracy: 0.9922 - val_binary_crossentropy: 0.0190 - val_auc: 0.9983 - val_auc_1: 0.9997\n",
            "Epoch 201/6000\n",
            "73/73 [==============================] - 0s 3ms/step - loss: 0.0738 - accuracy: 0.9770 - binary_crossentropy: 0.0674 - auc: 0.9667 - auc_1: 0.9920 - val_loss: 0.0257 - val_accuracy: 0.9922 - val_binary_crossentropy: 0.0193 - val_auc: 0.9982 - val_auc_1: 0.9997\n",
            "Epoch 202/6000\n",
            "73/73 [==============================] - 0s 4ms/step - loss: 0.0827 - accuracy: 0.9761 - binary_crossentropy: 0.0765 - auc: 0.9593 - auc_1: 0.9885 - val_loss: 0.0239 - val_accuracy: 0.9922 - val_binary_crossentropy: 0.0178 - val_auc: 0.9990 - val_auc_1: 0.9998\n",
            "Epoch 203/6000\n",
            "73/73 [==============================] - 0s 4ms/step - loss: 0.0751 - accuracy: 0.9783 - binary_crossentropy: 0.0689 - auc: 0.9624 - auc_1: 0.9906 - val_loss: 0.0267 - val_accuracy: 0.9922 - val_binary_crossentropy: 0.0204 - val_auc: 0.9985 - val_auc_1: 0.9997\n",
            "Epoch 204/6000\n",
            "73/73 [==============================] - 0s 4ms/step - loss: 0.0755 - accuracy: 0.9775 - binary_crossentropy: 0.0693 - auc: 0.9645 - auc_1: 0.9910 - val_loss: 0.0261 - val_accuracy: 0.9922 - val_binary_crossentropy: 0.0200 - val_auc: 0.9987 - val_auc_1: 0.9998\n",
            "Epoch 205/6000\n",
            "73/73 [==============================] - 0s 4ms/step - loss: 0.0740 - accuracy: 0.9770 - binary_crossentropy: 0.0678 - auc: 0.9676 - auc_1: 0.9913 - val_loss: 0.0246 - val_accuracy: 0.9948 - val_binary_crossentropy: 0.0181 - val_auc: 0.9987 - val_auc_1: 0.9998\n",
            "Epoch 206/6000\n",
            "73/73 [==============================] - 0s 4ms/step - loss: 0.0809 - accuracy: 0.9783 - binary_crossentropy: 0.0746 - auc: 0.9596 - auc_1: 0.9900 - val_loss: 0.0267 - val_accuracy: 0.9922 - val_binary_crossentropy: 0.0203 - val_auc: 0.9977 - val_auc_1: 0.9996\n",
            "Epoch 207/6000\n",
            "73/73 [==============================] - 0s 4ms/step - loss: 0.0770 - accuracy: 0.9792 - binary_crossentropy: 0.0705 - auc: 0.9616 - auc_1: 0.9905 - val_loss: 0.0278 - val_accuracy: 0.9922 - val_binary_crossentropy: 0.0213 - val_auc: 0.9983 - val_auc_1: 0.9997\n",
            "Epoch 208/6000\n",
            "73/73 [==============================] - 0s 4ms/step - loss: 0.0759 - accuracy: 0.9779 - binary_crossentropy: 0.0695 - auc: 0.9651 - auc_1: 0.9905 - val_loss: 0.0259 - val_accuracy: 0.9922 - val_binary_crossentropy: 0.0196 - val_auc: 0.9982 - val_auc_1: 0.9997\n",
            "Epoch 209/6000\n",
            "73/73 [==============================] - 0s 4ms/step - loss: 0.0753 - accuracy: 0.9753 - binary_crossentropy: 0.0692 - auc: 0.9652 - auc_1: 0.9902 - val_loss: 0.0241 - val_accuracy: 0.9922 - val_binary_crossentropy: 0.0179 - val_auc: 0.9987 - val_auc_1: 0.9998\n",
            "Epoch 210/6000\n",
            "73/73 [==============================] - 0s 4ms/step - loss: 0.0740 - accuracy: 0.9783 - binary_crossentropy: 0.0678 - auc: 0.9650 - auc_1: 0.9904 - val_loss: 0.0229 - val_accuracy: 0.9922 - val_binary_crossentropy: 0.0167 - val_auc: 0.9993 - val_auc_1: 0.9999\n",
            "Epoch 211/6000\n",
            "73/73 [==============================] - 0s 4ms/step - loss: 0.0740 - accuracy: 0.9766 - binary_crossentropy: 0.0678 - auc: 0.9642 - auc_1: 0.9906 - val_loss: 0.0263 - val_accuracy: 0.9922 - val_binary_crossentropy: 0.0200 - val_auc: 0.9987 - val_auc_1: 0.9998\n",
            "Epoch 212/6000\n",
            "73/73 [==============================] - 0s 4ms/step - loss: 0.0725 - accuracy: 0.9801 - binary_crossentropy: 0.0662 - auc: 0.9637 - auc_1: 0.9906 - val_loss: 0.0250 - val_accuracy: 0.9922 - val_binary_crossentropy: 0.0185 - val_auc: 0.9990 - val_auc_1: 0.9998\n",
            "Epoch 213/6000\n",
            "73/73 [==============================] - 0s 4ms/step - loss: 0.0776 - accuracy: 0.9770 - binary_crossentropy: 0.0713 - auc: 0.9612 - auc_1: 0.9894 - val_loss: 0.0243 - val_accuracy: 0.9948 - val_binary_crossentropy: 0.0181 - val_auc: 0.9987 - val_auc_1: 0.9998\n",
            "Epoch 214/6000\n",
            "73/73 [==============================] - 0s 4ms/step - loss: 0.0701 - accuracy: 0.9801 - binary_crossentropy: 0.0640 - auc: 0.9676 - auc_1: 0.9919 - val_loss: 0.0271 - val_accuracy: 0.9896 - val_binary_crossentropy: 0.0209 - val_auc: 0.9961 - val_auc_1: 0.9993\n",
            "Epoch 215/6000\n",
            "73/73 [==============================] - 0s 5ms/step - loss: 0.0795 - accuracy: 0.9783 - binary_crossentropy: 0.0733 - auc: 0.9584 - auc_1: 0.9899 - val_loss: 0.0306 - val_accuracy: 0.9922 - val_binary_crossentropy: 0.0244 - val_auc: 0.9964 - val_auc_1: 0.9994\n",
            "Epoch 216/6000\n",
            "73/73 [==============================] - 0s 3ms/step - loss: 0.0806 - accuracy: 0.9766 - binary_crossentropy: 0.0743 - auc: 0.9587 - auc_1: 0.9903 - val_loss: 0.0287 - val_accuracy: 0.9922 - val_binary_crossentropy: 0.0225 - val_auc: 0.9967 - val_auc_1: 0.9994\n",
            "Epoch 217/6000\n",
            "73/73 [==============================] - 0s 4ms/step - loss: 0.0743 - accuracy: 0.9805 - binary_crossentropy: 0.0679 - auc: 0.9668 - auc_1: 0.9920 - val_loss: 0.0255 - val_accuracy: 0.9896 - val_binary_crossentropy: 0.0192 - val_auc: 0.9981 - val_auc_1: 0.9997\n",
            "Epoch 218/6000\n",
            "73/73 [==============================] - 0s 4ms/step - loss: 0.0863 - accuracy: 0.9744 - binary_crossentropy: 0.0800 - auc: 0.9517 - auc_1: 0.9878 - val_loss: 0.0291 - val_accuracy: 0.9922 - val_binary_crossentropy: 0.0229 - val_auc: 0.9967 - val_auc_1: 0.9994\n",
            "Epoch 219/6000\n",
            "73/73 [==============================] - 0s 5ms/step - loss: 0.0813 - accuracy: 0.9766 - binary_crossentropy: 0.0751 - auc: 0.9569 - auc_1: 0.9889 - val_loss: 0.0319 - val_accuracy: 0.9922 - val_binary_crossentropy: 0.0256 - val_auc: 0.9967 - val_auc_1: 0.9994\n",
            "Epoch 220/6000\n",
            "73/73 [==============================] - 0s 4ms/step - loss: 0.0764 - accuracy: 0.9788 - binary_crossentropy: 0.0698 - auc: 0.9622 - auc_1: 0.9904 - val_loss: 0.0270 - val_accuracy: 0.9922 - val_binary_crossentropy: 0.0205 - val_auc: 0.9970 - val_auc_1: 0.9995\n",
            "Epoch 221/6000\n",
            "73/73 [==============================] - 0s 4ms/step - loss: 0.0717 - accuracy: 0.9801 - binary_crossentropy: 0.0652 - auc: 0.9684 - auc_1: 0.9918 - val_loss: 0.0282 - val_accuracy: 0.9922 - val_binary_crossentropy: 0.0218 - val_auc: 0.9967 - val_auc_1: 0.9994\n",
            "Epoch 222/6000\n",
            "73/73 [==============================] - 0s 4ms/step - loss: 0.0747 - accuracy: 0.9770 - binary_crossentropy: 0.0685 - auc: 0.9647 - auc_1: 0.9912 - val_loss: 0.0275 - val_accuracy: 0.9922 - val_binary_crossentropy: 0.0214 - val_auc: 0.9975 - val_auc_1: 0.9996\n",
            "Epoch 223/6000\n",
            "73/73 [==============================] - 0s 4ms/step - loss: 0.0846 - accuracy: 0.9740 - binary_crossentropy: 0.0785 - auc: 0.9538 - auc_1: 0.9876 - val_loss: 0.0257 - val_accuracy: 0.9922 - val_binary_crossentropy: 0.0195 - val_auc: 0.9977 - val_auc_1: 0.9996\n",
            "Epoch 224/6000\n",
            "73/73 [==============================] - 0s 4ms/step - loss: 0.0718 - accuracy: 0.9792 - binary_crossentropy: 0.0658 - auc: 0.9686 - auc_1: 0.9915 - val_loss: 0.0245 - val_accuracy: 0.9922 - val_binary_crossentropy: 0.0185 - val_auc: 0.9987 - val_auc_1: 0.9998\n",
            "Epoch 225/6000\n",
            "73/73 [==============================] - 0s 4ms/step - loss: 0.0656 - accuracy: 0.9818 - binary_crossentropy: 0.0595 - auc: 0.9700 - auc_1: 0.9924 - val_loss: 0.0244 - val_accuracy: 0.9922 - val_binary_crossentropy: 0.0181 - val_auc: 0.9987 - val_auc_1: 0.9998\n",
            "Epoch 226/6000\n",
            "73/73 [==============================] - 0s 5ms/step - loss: 0.0676 - accuracy: 0.9792 - binary_crossentropy: 0.0613 - auc: 0.9730 - auc_1: 0.9929 - val_loss: 0.0241 - val_accuracy: 0.9922 - val_binary_crossentropy: 0.0178 - val_auc: 0.9987 - val_auc_1: 0.9998\n",
            "Epoch 227/6000\n",
            "73/73 [==============================] - 0s 4ms/step - loss: 0.0803 - accuracy: 0.9748 - binary_crossentropy: 0.0739 - auc: 0.9626 - auc_1: 0.9905 - val_loss: 0.0335 - val_accuracy: 0.9896 - val_binary_crossentropy: 0.0272 - val_auc: 0.9970 - val_auc_1: 0.9995\n",
            "Epoch 228/6000\n",
            "73/73 [==============================] - 0s 4ms/step - loss: 0.0717 - accuracy: 0.9809 - binary_crossentropy: 0.0655 - auc: 0.9677 - auc_1: 0.9911 - val_loss: 0.0259 - val_accuracy: 0.9896 - val_binary_crossentropy: 0.0198 - val_auc: 0.9977 - val_auc_1: 0.9996\n",
            "Epoch 229/6000\n",
            "73/73 [==============================] - 0s 4ms/step - loss: 0.0780 - accuracy: 0.9783 - binary_crossentropy: 0.0720 - auc: 0.9598 - auc_1: 0.9895 - val_loss: 0.0285 - val_accuracy: 0.9896 - val_binary_crossentropy: 0.0222 - val_auc: 0.9978 - val_auc_1: 0.9996\n",
            "Epoch 230/6000\n",
            "73/73 [==============================] - 0s 4ms/step - loss: 0.0732 - accuracy: 0.9814 - binary_crossentropy: 0.0668 - auc: 0.9649 - auc_1: 0.9901 - val_loss: 0.0255 - val_accuracy: 0.9922 - val_binary_crossentropy: 0.0192 - val_auc: 0.9987 - val_auc_1: 0.9998\n",
            "Epoch 231/6000\n",
            "73/73 [==============================] - 0s 4ms/step - loss: 0.0776 - accuracy: 0.9792 - binary_crossentropy: 0.0714 - auc: 0.9597 - auc_1: 0.9889 - val_loss: 0.0251 - val_accuracy: 0.9922 - val_binary_crossentropy: 0.0190 - val_auc: 0.9978 - val_auc_1: 0.9996\n",
            "Epoch 232/6000\n",
            "73/73 [==============================] - 0s 4ms/step - loss: 0.0714 - accuracy: 0.9814 - binary_crossentropy: 0.0654 - auc: 0.9670 - auc_1: 0.9910 - val_loss: 0.0268 - val_accuracy: 0.9922 - val_binary_crossentropy: 0.0208 - val_auc: 0.9974 - val_auc_1: 0.9996\n",
            "Epoch 233/6000\n",
            "73/73 [==============================] - 0s 4ms/step - loss: 0.0780 - accuracy: 0.9775 - binary_crossentropy: 0.0720 - auc: 0.9566 - auc_1: 0.9887 - val_loss: 0.0244 - val_accuracy: 0.9922 - val_binary_crossentropy: 0.0183 - val_auc: 0.9985 - val_auc_1: 0.9997\n",
            "Epoch 234/6000\n",
            "73/73 [==============================] - 0s 4ms/step - loss: 0.0695 - accuracy: 0.9796 - binary_crossentropy: 0.0636 - auc: 0.9649 - auc_1: 0.9905 - val_loss: 0.0238 - val_accuracy: 0.9922 - val_binary_crossentropy: 0.0179 - val_auc: 0.9983 - val_auc_1: 0.9997\n",
            "Epoch 235/6000\n",
            "73/73 [==============================] - 0s 5ms/step - loss: 0.0764 - accuracy: 0.9761 - binary_crossentropy: 0.0702 - auc: 0.9643 - auc_1: 0.9910 - val_loss: 0.0250 - val_accuracy: 0.9896 - val_binary_crossentropy: 0.0189 - val_auc: 0.9980 - val_auc_1: 0.9997\n",
            "Epoch 236/6000\n",
            "73/73 [==============================] - 0s 4ms/step - loss: 0.0692 - accuracy: 0.9814 - binary_crossentropy: 0.0633 - auc: 0.9675 - auc_1: 0.9911 - val_loss: 0.0288 - val_accuracy: 0.9922 - val_binary_crossentropy: 0.0228 - val_auc: 0.9978 - val_auc_1: 0.9996\n",
            "Epoch 237/6000\n",
            "73/73 [==============================] - 0s 4ms/step - loss: 0.0750 - accuracy: 0.9792 - binary_crossentropy: 0.0691 - auc: 0.9624 - auc_1: 0.9903 - val_loss: 0.0256 - val_accuracy: 0.9922 - val_binary_crossentropy: 0.0197 - val_auc: 0.9980 - val_auc_1: 0.9997\n",
            "Epoch 238/6000\n",
            "73/73 [==============================] - 0s 4ms/step - loss: 0.0762 - accuracy: 0.9761 - binary_crossentropy: 0.0703 - auc: 0.9658 - auc_1: 0.9904 - val_loss: 0.0246 - val_accuracy: 0.9922 - val_binary_crossentropy: 0.0186 - val_auc: 0.9980 - val_auc_1: 0.9997\n",
            "Epoch 239/6000\n",
            "73/73 [==============================] - 0s 5ms/step - loss: 0.0708 - accuracy: 0.9779 - binary_crossentropy: 0.0646 - auc: 0.9673 - auc_1: 0.9921 - val_loss: 0.0220 - val_accuracy: 0.9948 - val_binary_crossentropy: 0.0157 - val_auc: 0.9993 - val_auc_1: 0.9999\n",
            "Epoch 240/6000\n",
            "73/73 [==============================] - 0s 4ms/step - loss: 0.0676 - accuracy: 0.9822 - binary_crossentropy: 0.0615 - auc: 0.9676 - auc_1: 0.9918 - val_loss: 0.0240 - val_accuracy: 0.9922 - val_binary_crossentropy: 0.0179 - val_auc: 0.9983 - val_auc_1: 0.9997\n",
            "Epoch 241/6000\n",
            "73/73 [==============================] - 0s 5ms/step - loss: 0.0694 - accuracy: 0.9801 - binary_crossentropy: 0.0634 - auc: 0.9727 - auc_1: 0.9929 - val_loss: 0.0254 - val_accuracy: 0.9922 - val_binary_crossentropy: 0.0197 - val_auc: 0.9987 - val_auc_1: 0.9998\n",
            "Epoch 242/6000\n",
            "73/73 [==============================] - 0s 5ms/step - loss: 0.0857 - accuracy: 0.9766 - binary_crossentropy: 0.0799 - auc: 0.9511 - auc_1: 0.9862 - val_loss: 0.0224 - val_accuracy: 0.9922 - val_binary_crossentropy: 0.0165 - val_auc: 0.9993 - val_auc_1: 0.9999\n",
            "Epoch 243/6000\n",
            "73/73 [==============================] - 0s 5ms/step - loss: 0.0780 - accuracy: 0.9770 - binary_crossentropy: 0.0722 - auc: 0.9595 - auc_1: 0.9896 - val_loss: 0.0267 - val_accuracy: 0.9922 - val_binary_crossentropy: 0.0210 - val_auc: 0.9980 - val_auc_1: 0.9997\n",
            "Epoch 244/6000\n",
            "73/73 [==============================] - 0s 4ms/step - loss: 0.0745 - accuracy: 0.9779 - binary_crossentropy: 0.0687 - auc: 0.9670 - auc_1: 0.9909 - val_loss: 0.0267 - val_accuracy: 0.9922 - val_binary_crossentropy: 0.0210 - val_auc: 0.9977 - val_auc_1: 0.9996\n",
            "Epoch 245/6000\n",
            "73/73 [==============================] - 0s 4ms/step - loss: 0.0697 - accuracy: 0.9801 - binary_crossentropy: 0.0638 - auc: 0.9689 - auc_1: 0.9926 - val_loss: 0.0245 - val_accuracy: 0.9922 - val_binary_crossentropy: 0.0187 - val_auc: 0.9983 - val_auc_1: 0.9997\n",
            "Epoch 246/6000\n",
            "73/73 [==============================] - 0s 4ms/step - loss: 0.0839 - accuracy: 0.9748 - binary_crossentropy: 0.0780 - auc: 0.9574 - auc_1: 0.9898 - val_loss: 0.0234 - val_accuracy: 0.9922 - val_binary_crossentropy: 0.0175 - val_auc: 0.9987 - val_auc_1: 0.9998\n",
            "Epoch 247/6000\n",
            "73/73 [==============================] - 0s 4ms/step - loss: 0.0730 - accuracy: 0.9788 - binary_crossentropy: 0.0670 - auc: 0.9634 - auc_1: 0.9908 - val_loss: 0.0238 - val_accuracy: 0.9922 - val_binary_crossentropy: 0.0179 - val_auc: 0.9991 - val_auc_1: 0.9999\n",
            "Epoch 248/6000\n",
            "73/73 [==============================] - 0s 5ms/step - loss: 0.0694 - accuracy: 0.9822 - binary_crossentropy: 0.0636 - auc: 0.9665 - auc_1: 0.9916 - val_loss: 0.0217 - val_accuracy: 0.9922 - val_binary_crossentropy: 0.0157 - val_auc: 0.9993 - val_auc_1: 0.9999\n",
            "Epoch 249/6000\n",
            "73/73 [==============================] - 0s 4ms/step - loss: 0.0775 - accuracy: 0.9783 - binary_crossentropy: 0.0716 - auc: 0.9619 - auc_1: 0.9903 - val_loss: 0.0255 - val_accuracy: 0.9948 - val_binary_crossentropy: 0.0196 - val_auc: 0.9993 - val_auc_1: 0.9999\n",
            "Epoch 250/6000\n",
            "73/73 [==============================] - 0s 5ms/step - loss: 0.0884 - accuracy: 0.9727 - binary_crossentropy: 0.0820 - auc: 0.9559 - auc_1: 0.9877 - val_loss: 0.0205 - val_accuracy: 0.9948 - val_binary_crossentropy: 0.0141 - val_auc: 1.0000 - val_auc_1: 1.0000\n",
            "Epoch 251/6000\n",
            "73/73 [==============================] - 0s 5ms/step - loss: 0.0760 - accuracy: 0.9788 - binary_crossentropy: 0.0698 - auc: 0.9598 - auc_1: 0.9900 - val_loss: 0.0217 - val_accuracy: 0.9922 - val_binary_crossentropy: 0.0154 - val_auc: 0.9993 - val_auc_1: 0.9999\n",
            "Epoch 252/6000\n",
            "73/73 [==============================] - 0s 5ms/step - loss: 0.0709 - accuracy: 0.9783 - binary_crossentropy: 0.0645 - auc: 0.9652 - auc_1: 0.9907 - val_loss: 0.0199 - val_accuracy: 0.9974 - val_binary_crossentropy: 0.0138 - val_auc: 0.9998 - val_auc_1: 1.0000\n",
            "Epoch 253/6000\n",
            "67/73 [==========================>...] - ETA: 0s - loss: 0.0733 - accuracy: 0.9781 - binary_crossentropy: 0.0673 - auc: 0.9631 - auc_1: 0.9898\n",
            "\n",
            "\n",
            "Reached best value so cancelling training!\n",
            "\n",
            "\n",
            "\n",
            "73/73 [==============================] - 0s 5ms/step - loss: 0.0728 - accuracy: 0.9788 - binary_crossentropy: 0.0668 - auc: 0.9644 - auc_1: 0.9901 - val_loss: 0.0194 - val_accuracy: 0.9974 - val_binary_crossentropy: 0.0133 - val_auc: 1.0000 - val_auc_1: 1.0000\n"
          ]
        }
      ],
      "source": [
        "\n",
        "model1history = model1.fit(rescaledX_train,\n",
        "                                      rescaledy_train,\n",
        "                                      epochs=6000,\n",
        "                                      batch_size=32,\n",
        "                                       callbacks=[trainingStopCallback],\n",
        "                                      validation_data=(rescaledX_val, rescaledy_val))"
      ]
    },
    {
      "cell_type": "markdown",
      "metadata": {
        "id": "gJCtguRQj8f4"
      },
      "source": [
        "Valuto il mdoello"
      ]
    },
    {
      "cell_type": "code",
      "execution_count": null,
      "metadata": {
        "id": "bPgb-WGIj92C",
        "colab": {
          "base_uri": "https://localhost:8080/"
        },
        "outputId": "2407b85c-186e-46d3-82c9-721166b4d352"
      },
      "outputs": [
        {
          "output_type": "stream",
          "name": "stdout",
          "text": [
            "13/13 [==============================] - 1s 3ms/step - loss: 0.0477 - accuracy: 0.9870 - binary_crossentropy: 0.0416 - auc: 0.9910 - auc_1: 0.9981\n",
            "[0.04772621765732765, 0.9870129823684692, 0.041640352457761765, 0.9909894466400146, 0.9980716109275818]\n"
          ]
        }
      ],
      "source": [
        "results = model1.evaluate(rescaledX_test, rescaledy_test)\n",
        "\n",
        "print(results)"
      ]
    },
    {
      "cell_type": "markdown",
      "metadata": {
        "id": "ABASgoIfX7t-"
      },
      "source": [
        "Definisco i grafici di ROC e PR"
      ]
    },
    {
      "cell_type": "code",
      "execution_count": null,
      "metadata": {
        "id": "4TbcTiYHllte"
      },
      "outputs": [],
      "source": [
        "y_pred_prob_nn_1 = model1.predict(rescaledX_test)"
      ]
    },
    {
      "cell_type": "code",
      "execution_count": null,
      "metadata": {
        "id": "6jbZ0n18l2mj"
      },
      "outputs": [],
      "source": [
        "y_pred_class_nn_1 = y_pred_prob_nn_1.round()"
      ]
    },
    {
      "cell_type": "code",
      "execution_count": null,
      "metadata": {
        "id": "ZK7_MkHVmOBN"
      },
      "outputs": [],
      "source": [
        "def plot_roc(y_test, y_pred, model_name):\n",
        "    fpr, tpr, thr = roc_curve(y_test, y_pred)\n",
        "    fig, ax = plt.subplots(figsize=(8, 8))\n",
        "    ax.plot(fpr, tpr, 'k-')\n",
        "    ax.plot([0, 1], [0, 1], 'k--', linewidth=.5)  # roc curve for random model\n",
        "    ax.grid(True)\n",
        "    ax.set(title='ROC Curve for {} on Credit Card'.format(model_name),\n",
        "           xlim=[-0.01, 1.01], ylim=[-0.01, 1.01])"
      ]
    },
    {
      "cell_type": "code",
      "execution_count": null,
      "metadata": {
        "id": "yUPNvk9Fm-Jf"
      },
      "outputs": [],
      "source": [
        "def plot_pr(y_test, y_pred, model_name):\n",
        "    fpr, tpr, thr = precision_recall_curve(y_test, y_pred)\n",
        "    fig, ax = plt.subplots(figsize=(8, 8))\n",
        "    ax.plot(fpr, tpr, 'k-')\n",
        "    ax.plot([0, 1], [0, 1], 'k--', linewidth=.5)  # pr curve for random model\n",
        "    ax.grid(True)\n",
        "    ax.set(title='PR Curve for {} on Credit Card'.format(model_name),\n",
        "           xlim=[-0.01, 1.01], ylim=[-0.01, 1.01])"
      ]
    },
    {
      "cell_type": "markdown",
      "metadata": {
        "id": "twyBGFYzYCaM"
      },
      "source": [
        "Stampo ROC e PR"
      ]
    },
    {
      "cell_type": "code",
      "execution_count": null,
      "metadata": {
        "id": "rOX5QrQXl67s",
        "colab": {
          "base_uri": "https://localhost:8080/",
          "height": 1000
        },
        "outputId": "70561533-6a59-4a05-a325-10c94b4b1295"
      },
      "outputs": [
        {
          "output_type": "stream",
          "name": "stdout",
          "text": [
            "accuracy is 0.987\n",
            "roc-auc is 0.998\n",
            "average precision score is 0.990\n"
          ]
        },
        {
          "output_type": "display_data",
          "data": {
            "text/plain": [
              "<Figure size 576x576 with 1 Axes>"
            ],
            "image/png": "[encoded data removed]"
          },
          "metadata": {
            "needs_background": "light"
          }
        },
        {
          "output_type": "display_data",
          "data": {
            "text/plain": [
              "<Figure size 576x576 with 1 Axes>"
            ],
            "image/png": "[encoded data removed]"
          },
          "metadata": {
            "needs_background": "light"
          }
        }
      ],
      "source": [
        "print('accuracy is {:.3f}'.format(accuracy_score(y_test,y_pred_class_nn_1)))\n",
        "print('roc-auc is {:.3f}'.format(roc_auc_score(y_test,y_pred_prob_nn_1)))\n",
        "print('average precision score is {:.3f}'.format(average_precision_score(y_test,y_pred_prob_nn_1)))\n",
        "\n",
        "\n",
        "plot_roc(y_test, y_pred_prob_nn_1, 'NN')\n",
        "plot_pr(y_test, y_pred_prob_nn_1, 'NN')"
      ]
    },
    {
      "cell_type": "code",
      "execution_count": null,
      "metadata": {
        "id": "-R-ixWOpKwDN",
        "colab": {
          "base_uri": "https://localhost:8080/"
        },
        "outputId": "32618a18-27d4-4735-a7f5-6b09b1e6ad46"
      },
      "outputs": [
        {
          "output_type": "execute_result",
          "data": {
            "text/plain": [
              "dict_keys(['loss', 'accuracy', 'binary_crossentropy', 'auc', 'auc_1', 'val_loss', 'val_accuracy', 'val_binary_crossentropy', 'val_auc', 'val_auc_1'])"
            ]
          },
          "metadata": {},
          "execution_count": 32
        }
      ],
      "source": [
        "history_dict =  model1history.history\n",
        "history_dict.keys()"
      ]
    },
    {
      "cell_type": "markdown",
      "metadata": {
        "id": "UO0pHPNfYKCx"
      },
      "source": [
        "Definisco e stampo i grafici di loss e accuracy di training e validation"
      ]
    },
    {
      "cell_type": "code",
      "execution_count": null,
      "metadata": {
        "id": "Naw5u4ShKgYY",
        "colab": {
          "base_uri": "https://localhost:8080/",
          "height": 295
        },
        "outputId": "99c78dd1-7801-4ddb-9d0c-ef6651d65a4e"
      },
      "outputs": [
        {
          "output_type": "display_data",
          "data": {
            "text/plain": [
              "<Figure size 432x288 with 1 Axes>"
            ],
            "image/png": "[encoded data removed]"
          },
          "metadata": {
            "needs_background": "light"
          }
        }
      ],
      "source": [
        "import matplotlib.pyplot as plt\n",
        "\n",
        "acc = history_dict['accuracy']\n",
        "val_acc = history_dict['val_accuracy']\n",
        "loss = history_dict['loss']\n",
        "val_loss = history_dict['val_loss']\n",
        "\n",
        "epochs = range(1, len(acc) + 1)\n",
        "\n",
        "# \"bo\" is for \"blue dot\"\n",
        "plt.plot(epochs, loss, 'bo', label='Training loss')\n",
        "# b is for \"solid blue line\"\n",
        "plt.plot(epochs, val_loss, 'b', label='Validation loss')\n",
        "plt.title('Training and validation loss')\n",
        "plt.xlabel('Epochs')\n",
        "plt.ylabel('Loss')\n",
        "plt.legend()\n",
        "\n",
        "plt.show()"
      ]
    },
    {
      "cell_type": "code",
      "execution_count": null,
      "metadata": {
        "id": "9HRzQcgtKkA6",
        "colab": {
          "base_uri": "https://localhost:8080/",
          "height": 295
        },
        "outputId": "be8fd555-11a9-4e69-c9ad-01607f9c3d9d"
      },
      "outputs": [
        {
          "output_type": "display_data",
          "data": {
            "text/plain": [
              "<Figure size 432x288 with 1 Axes>"
            ],
            "image/png": "[encoded data removed]"
          },
          "metadata": {
            "needs_background": "light"
          }
        }
      ],
      "source": [
        "plt.clf()   # clear figure\n",
        "\n",
        "plt.plot(epochs, acc, 'bo', label='Training acc')\n",
        "plt.plot(epochs, val_acc, 'b', label='Validation acc')\n",
        "plt.title('Training and validation accuracy')\n",
        "plt.xlabel('Epochs')\n",
        "plt.ylabel('Accuracy')\n",
        "plt.legend()\n",
        "\n",
        "plt.show()"
      ]
    },
    {
      "cell_type": "markdown",
      "source": [
        "Esporto modello e history"
      ],
      "metadata": {
        "id": "nK5svgeVTCJv"
      }
    },
    {
      "cell_type": "code",
      "execution_count": null,
      "metadata": {
        "id": "sP4zN5TZXZzq",
        "colab": {
          "base_uri": "https://localhost:8080/"
        },
        "outputId": "fe316cba-714a-4e34-8aca-534338ba8801"
      },
      "outputs": [
        {
          "output_type": "stream",
          "name": "stdout",
          "text": [
            "INFO:tensorflow:Assets written to: /content/drive/MyDrive/modello/mio_modello22/assets\n"
          ]
        }
      ],
      "source": [
        "model1.save('/content/drive/MyDrive/modello/mio_modello23') "
      ]
    },
    {
      "cell_type": "code",
      "execution_count": null,
      "metadata": {
        "id": "pPMuUfKH-LQI"
      },
      "outputs": [],
      "source": [
        "import pickle"
      ]
    },
    {
      "cell_type": "code",
      "execution_count": null,
      "metadata": {
        "id": "oqrexUFV92-x"
      },
      "outputs": [],
      "source": [
        "with open('/content/drive/MyDrive/modello/trainHistoryDict14', 'wb') as file_pi:\n",
        "        pickle.dump(model1history.history, file_pi)"
      ]
    }
  ],
  "metadata": {
    "colab": {
      "provenance": [],
      "mount_file_id": "1HudxDLZ1k-NXTMZD3Y3zT313wzaq3WYY",
      "authorship_tag": "ABX9TyP2vO42axVYsoW8rSXGIIAY",
      "include_colab_link": true
    },
    "kernelspec": {
      "display_name": "Python 3",
      "name": "python3"
    },
    "language_info": {
      "name": "python"
    }
  },
  "nbformat": 4,
  "nbformat_minor": 0
}